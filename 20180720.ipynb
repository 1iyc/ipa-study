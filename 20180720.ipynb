{
 "cells": [
  {
   "cell_type": "code",
   "execution_count": 2,
   "metadata": {},
   "outputs": [],
   "source": [
    "import requests"
   ]
  },
  {
   "cell_type": "code",
   "execution_count": 3,
   "metadata": {},
   "outputs": [],
   "source": [
    "res = requests.get(\"http://www.google.com\")"
   ]
  },
  {
   "cell_type": "code",
   "execution_count": 4,
   "metadata": {},
   "outputs": [
    {
     "data": {
      "text/plain": [
       "200"
      ]
     },
     "execution_count": 4,
     "metadata": {},
     "output_type": "execute_result"
    }
   ],
   "source": [
    "res.status_code"
   ]
  },
  {
   "cell_type": "code",
   "execution_count": 5,
   "metadata": {
    "scrolled": true
   },
   "outputs": [
    {
     "data": {
      "text/plain": [
       "'<!doctype html><html itemscope=\"\" itemtype=\"http://schema.org/WebPage\" lang=\"ko\"><head><meta content=\"text/html; charset=UTF-8\" http-equiv=\"Content-Type\"><meta content=\"/images/branding/googleg/1x/googleg_standard_color_128dp.png\" itemprop=\"image\"><title>Google</title><script nonce=\"uAJNg0LFHHmI25AS3g+wXA==\">(function(){window.google={kEI:\\'-bVRW8ShFsOC-QaIhJ6wCQ\\',kEXPI:\\'0,1353747,57,1958,1017,39,241,711,1004,635,607,51,115,22,61,73,579,2339145,269,158,32,329294,1294,12382,2350,2506,32692,15247,864,1583,7,5105,2239,3232,14325,2196,369,548,553,437,1776,113,2201,3191,726,5,336,45,128,1202,128,132,1028,459,3620,444,131,1119,2,579,727,311,2121,254,1107,1712,1376,505,732,375,1240,479,609,685,8,1569,222,552,1232,1019,280,2,2825,1636,481,44,22,604,2,153,506,837,804,121,2,70,3,937,394,29,272,614,283,509,1236,77,274,214,82,757,587,9,29,827,14,40,21,4,7,60,108,334,55,68,7,902,208,129,105,386,8,806,278,7,28,463,243,226,151,29,460,248,186,4,4,4,4,101,384,451,7,62,216,14,339,1248,74,424,827,642,102,124,141,269,452,224,289,55,4,165,690,2323718,3685998,1874,680,8797786,194,1382,549,332,445,1,2,1,1,77,1,1,506,394,583,9,304,1,8,1,2,1,1,1975,73,5,19,58,1,1,1,1,1,21,4,22,4,47\\',authuser:0,kscs:\\'c9c918f0_-bVRW8ShFsOC-QaIhJ6wCQ\\',kGL:\\'KR\\'};google.kHL=\\'ko\\';})();google.time=function(){return(new Date).getTime()};(function(){google.lc=[];google.li=0;google.getEI=function(a){for(var b;a&&(!a.getAttribute||!(b=a.getAttribute(\"eid\")));)a=a.parentNode;return b||google.kEI};google.getLEI=function(a){for(var b=null;a&&(!a.getAttribute||!(b=a.getAttribute(\"leid\")));)a=a.parentNode;return b};google.https=function(){return\"https:\"==window.location.protocol};google.ml=function(){return null};google.wl=function(a,b){try{google.ml(Error(a),!1,b)}catch(d){}};google.log=function(a,b,d,c,g){if(a=google.logUrl(a,b,d,c,g)){b=new Image;var e=google.lc,f=google.li;e[f]=b;b.onerror=b.onload=b.onabort=function(){delete e[f]};google.vel&&google.vel.lu&&google.vel.lu(a);b.src=a;google.li=f+1}};google.logUrl=function(a,b,d,c,g){var e=\"\",f=google.ls||\"\";d||-1!=b.search(\"&ei=\")||(e=\"&ei=\"+google.getEI(c),-1==b.search(\"&lei=\")&&(c=google.getLEI(c))&&(e+=\"&lei=\"+c));c=\"\";!d&&google.cshid&&-1==b.search(\"&cshid=\")&&\"slh\"!=a&&(c=\"&cshid=\"+google.cshid);a=d||\"/\"+(g||\"gen_204\")+\"?atyp=i&ct=\"+a+\"&cad=\"+b+e+f+\"&zx=\"+google.time()+c;/^http:/i.test(a)&&google.https()&&(google.ml(Error(\"a\"),!1,{src:a,glmm:1}),a=\"\");return a};}).call(this);(function(){google.y={};google.x=function(a,b){if(a)var c=a.id;else{do c=Math.random();while(google.y[c])}google.y[c]=[a,b];return!1};google.lm=[];google.plm=function(a){google.lm.push.apply(google.lm,a)};google.lq=[];google.load=function(a,b,c){google.lq.push([[a],b,c])};google.loadAll=function(a,b){google.lq.push([a,b])};}).call(this);google.f={};</script><script nonce=\"uAJNg0LFHHmI25AS3g+wXA==\">var a=window.location,b=a.href.indexOf(\"#\");if(0<=b){var c=a.href.substring(b+1);/(^|&)q=/.test(c)&&-1==c.indexOf(\"#\")&&a.replace(\"/search?\"+c.replace(/(^|&)fp=[^&]*/g,\"\")+\"&cad=h\")};</script><style>#gbar,#guser{font-size:13px;padding-top:1px !important;}#gbar{height:22px}#guser{padding-bottom:7px !important;text-align:right}.gbh,.gbd{border-top:1px solid #c9d7f1;font-size:1px}.gbh{height:0;position:absolute;top:24px;width:100%}@media all{.gb1{height:22px;margin-right:.5em;vertical-align:top}#gbar{float:left}}a.gb1,a.gb4{text-decoration:underline !important}a.gb1,a.gb4{color:#00c !important}.gbi .gb4{color:#dd8e27 !important}.gbf .gb4{color:#900 !important}\\n</style><style>body,td,a,p,.h{font-family:&#44404;&#47548;,&#46027;&#50880;,arial,sans-serif}.ko{font-size:9pt}body{margin:0;overflow-y:scroll}#gog{padding:3px 8px 0}td{line-height:.8em}.gac_m td{line-height:17px}form{margin-bottom:20px}.h{color:#36c}.q{color:#00c}.ts td{padding:0}.ts{border-collapse:collapse}em{font-weight:bold;font-style:normal}.lst{height:25px;width:496px}.gsfi,.lst{font:18px arial,sans-serif}.gsfs{font:17px arial,sans-serif}.ds{display:inline-box;display:inline-block;margin:3px 0 4px;margin-left:4px}input{font-family:inherit}a.gb1,a.gb2,a.gb3,a.gb4{color:#11c !important}body{background:#fff;color:black}a{color:#11c;text-decoration:none}a:hover,a:active{text-decoration:underline}.fl a{color:#36c}a:visited{color:#551a8b}a.gb1,a.gb4{text-decoration:underline}a.gb3:hover{text-decoration:none}#ghead a.gb2:hover{color:#fff !important}.sblc{padding-top:5px}.sblc a{display:block;margin:2px 0;margin-left:13px;font-size:11px}.lsbb{background:#eee;border:solid 1px;border-color:#ccc #999 #999 #ccc;height:30px}.lsbb{display:block}.ftl,#fll a{display:inline-block;margin:0 12px}.lsb{background:url(/images/nav_logo229.png) 0 -261px repeat-x;border:none;color:#000;cursor:pointer;height:30px;margin:0;outline:0;font:15px arial,sans-serif;vertical-align:top}.lsb:active{background:#ccc}.lst:focus{outline:none}.tiah{width:458px}</style><script nonce=\"uAJNg0LFHHmI25AS3g+wXA==\"></script><link href=\"/images/branding/product/ico/googleg_lodp.ico\" rel=\"shortcut icon\"></head><body bgcolor=\"#fff\"><script nonce=\"uAJNg0LFHHmI25AS3g+wXA==\">(function(){var src=\\'/images/nav_logo229.png\\';var iesg=false;document.body.onload = function(){window.n && window.n();if (document.images){new Image().src=src;}\\nif (!iesg){document.f&&document.f.q.focus();document.gbqf&&document.gbqf.q.focus();}\\n}\\n})();</script><div id=\"mngb\"> <div id=gbar><nobr><b class=gb1>&#44160;&#49353;</b> <a class=gb1 href=\"http://www.google.co.kr/imghp?hl=ko&tab=wi\">&#51060;&#48120;&#51648;</a> <a class=gb1 href=\"http://maps.google.co.kr/maps?hl=ko&tab=wl\">&#51648;&#46020;</a> <a class=gb1 href=\"https://play.google.com/?hl=ko&tab=w8\">Play</a> <a class=gb1 href=\"http://www.youtube.com/?gl=KR&tab=w1\">YouTube</a> <a class=gb1 href=\"http://news.google.co.kr/nwshp?hl=ko&tab=wn\">&#45684;&#49828;</a> <a class=gb1 href=\"https://mail.google.com/mail/?tab=wm\">Gmail</a> <a class=gb1 href=\"https://drive.google.com/?tab=wo\">&#46300;&#46972;&#51060;&#48652;</a> <a class=gb1 style=\"text-decoration:none\" href=\"https://www.google.co.kr/intl/ko/options/\"><u>&#45908;&#48372;&#44592;</u> &raquo;</a></nobr></div><div id=guser width=100%><nobr><span id=gbn class=gbi></span><span id=gbf class=gbf></span><span id=gbe></span><a href=\"http://www.google.co.kr/history/optout?hl=ko\" class=gb4>&#50937; &#44592;&#47197;</a> | <a  href=\"/preferences?hl=ko\" class=gb4>&#49444;&#51221;</a> | <a target=_top id=gb_70 href=\"https://accounts.google.com/ServiceLogin?hl=ko&passive=true&continue=http://www.google.com/\" class=gb4>&#47196;&#44536;&#51064;</a></nobr></div><div class=gbh style=left:0></div><div class=gbh style=right:0></div> </div><center><br clear=\"all\" id=\"lgpd\"><div id=\"lga\"><img alt=\"Google\" height=\"92\" src=\"/images/branding/googlelogo/1x/googlelogo_white_background_color_272x92dp.png\" style=\"padding:28px 0 14px\" width=\"272\" id=\"hplogo\" onload=\"window.lol&&lol()\"><br><br></div><form action=\"/search\" name=\"f\"><table cellpadding=\"0\" cellspacing=\"0\"><tr valign=\"top\"><td width=\"25%\">&nbsp;</td><td align=\"center\" nowrap=\"\"><input name=\"ie\" value=\"ISO-8859-1\" type=\"hidden\"><input value=\"ko\" name=\"hl\" type=\"hidden\"><input name=\"source\" type=\"hidden\" value=\"hp\"><input name=\"biw\" type=\"hidden\"><input name=\"bih\" type=\"hidden\"><div class=\"ds\" style=\"height:32px;margin:4px 0\"><div style=\"position:relative;zoom:1\"><input style=\"color:#000;margin:0;padding:5px 8px 0 6px;vertical-align:top;padding-right:38px\" autocomplete=\"off\" class=\"lst tiah\" value=\"\" title=\"Google &#44160;&#49353;\" maxlength=\"2048\" name=\"q\" size=\"57\"><img src=\"/textinputassistant/tia.png\" style=\"position:absolute;cursor:pointer;right:5px;top:4px;z-index:300\" onclick=\"(function(){var src=\\'/textinputassistant/11/ko_tia.js\\';var s=document.createElement(\\'script\\');s.src=src;(document.getElementById(\\'xjsc\\')||document.body).appendChild(s);})();\" alt=\"\" height=\"23\" width=\"27\"></div></div><br style=\"line-height:0\"><span class=\"ds\"><span class=\"lsbb\"><input class=\"lsb\" value=\"Google &#44160;&#49353;\" name=\"btnG\" type=\"submit\"></span></span><span class=\"ds\"><span class=\"lsbb\"><input class=\"lsb\" value=\"I&#8217;m Feeling Lucky\" name=\"btnI\" onclick=\"if(this.form.q.value)this.checked=1; else top.location=\\'/doodles/\\'\" type=\"submit\"></span></span></td><td class=\"fl sblc\" align=\"left\" nowrap=\"\" width=\"25%\"><a href=\"/advanced_search?hl=ko&amp;authuser=0\">&#44256;&#44553;&#44160;&#49353;</a><a href=\"/language_tools?hl=ko&amp;authuser=0\">&#50616;&#50612;&#46020;&#44396;</a></td></tr></table><input id=\"gbv\" name=\"gbv\" type=\"hidden\" value=\"1\"></form><div id=\"gac_scont\"></div><div style=\"font-size:83%;min-height:3.5em\"><br></div><span id=\"footer\"><div style=\"font-size:10pt\"><div style=\"margin:19px auto;text-align:center\" id=\"fll\"><a href=\"/intl/ko/ads/\">&#44305;&#44256; &#54532;&#47196;&#44536;&#47016;</a><a href=\"http://www.google.co.kr/intl/ko/services/\">&#48708;&#51592;&#45768;&#49828; &#49556;&#47336;&#49496;</a><a href=\"https://plus.google.com/102197601262446632410\" rel=\"publisher\">+Google</a><a href=\"/intl/ko/about.html\">Google &#51221;&#48372;</a><a href=\"http://www.google.com/setprefdomain?prefdom=KR&amp;prev=http://www.google.co.kr/&amp;sig=__4AD5ndWmmMrqFlXa9APQAshFFHU%3D\">Google.co.kr</a></div></div><p style=\"color:#767676;font-size:8pt\">&copy; 2018 - <a href=\"/intl/ko/policies/privacy/\">&#44060;&#51064;&#51221;&#48372;&#52376;&#47532;&#48169;&#52840;</a> - <a href=\"/intl/ko/policies/terms/\">&#50557;&#44288;</a></p></span></center><script nonce=\"uAJNg0LFHHmI25AS3g+wXA==\">(function(){window.google.cdo={height:0,width:0};(function(){var a=window.innerWidth,b=window.innerHeight;if(!a||!b){var c=window.document,d=\"CSS1Compat\"==c.compatMode?c.documentElement:c.body;a=d.clientWidth;b=d.clientHeight}a&&b&&(a!=google.cdo.width||b!=google.cdo.height)&&google.log(\"\",\"\",\"/client_204?&atyp=i&biw=\"+a+\"&bih=\"+b+\"&ei=\"+google.kEI);}).call(this);})();</script><div id=\"xjsd\"></div><div id=\"xjsi\"><script nonce=\"uAJNg0LFHHmI25AS3g+wXA==\">(function(){function c(b){window.setTimeout(function(){var a=document.createElement(\"script\");a.src=b;google.timers&&google.timers.load.t&&google.tick&&google.tick(\"load\",{gen204:\"xjsls\",clearcut:31});document.getElementById(\"xjsd\").appendChild(a)},0)}google.dljp=function(b,a){google.xjsu=b;c(a)};google.dlj=c;}).call(this);if(!google.xjs){window._=window._||{};window._DumpException=window._._DumpException=function(e){throw e};window._F_installCss=window._._F_installCss=function(c){};google.dljp(\\'/xjs/_/js/k\\\\x3dxjs.hp.en.jpXjwU-iV-g.O/m\\\\x3dsb_he,d/am\\\\x3dhIKxAQ/rt\\\\x3dj/d\\\\x3d1/rs\\\\x3dACT90oEtzXKTirI_6xjUnf3bJw848fvknA\\',\\'/xjs/_/js/k\\\\x3dxjs.hp.en.jpXjwU-iV-g.O/m\\\\x3dsb_he,d/am\\\\x3dhIKxAQ/rt\\\\x3dj/d\\\\x3d1/rs\\\\x3dACT90oEtzXKTirI_6xjUnf3bJw848fvknA\\');google.xjs=1;}google.pmc={\"sb_he\":{\"agen\":true,\"cgen\":true,\"client\":\"heirloom-hp\",\"dh\":true,\"dhqt\":true,\"ds\":\"\",\"ffql\":\"ko\",\"fl\":true,\"host\":\"google.com\",\"isbh\":28,\"jsonp\":true,\"msgs\":{\"cibl\":\"&#44160;&#49353;&#50612; &#51648;&#50864;&#44592;\",\"dym\":\"&#51060;&#44163;&#51012; &#52286;&#51004;&#49512;&#45208;&#50836;?\",\"lcky\":\"I&#8217;m Feeling Lucky\",\"lml\":\"&#51088;&#49464;&#55176; &#50508;&#50500;&#48372;&#44592;\",\"oskt\":\"&#51077;&#47141; &#46020;&#44396;\",\"psrc\":\"&#44160;&#49353;&#50612;&#44032; \\\\u003Ca href=\\\\\"/history\\\\\"\\\\u003E&#50937; &#44592;&#47197;\\\\u003C/a\\\\u003E&#50640;&#49436; &#49325;&#51228;&#46104;&#50632;&#49845;&#45768;&#45796;.\",\"psrl\":\"&#49325;&#51228;\",\"sbit\":\"&#51060;&#48120;&#51648;&#47196; &#44160;&#49353;\",\"srch\":\"Google &#44160;&#49353;\"},\"nds\":true,\"ovr\":{},\"pq\":\"\",\"refpd\":true,\"refspre\":true,\"rfs\":[],\"sbpl\":24,\"sbpr\":24,\"scd\":10,\"sce\":5,\"stok\":\"jWGho425Tvi2MxuXQGi_PHvptqw\"},\"d\":{},\"ZI/YVQ\":{},\"Qnk92g\":{},\"U5B21g\":{},\"DPBNMg\":{},\"YFCs/g\":{}};google.x(null,function(){});(function(){var r=[];google.plm(r);})();(function(){var m=[]\\n;google.jsc && google.jsc.m(m);})();</script></div></body></html>'"
      ]
     },
     "execution_count": 5,
     "metadata": {},
     "output_type": "execute_result"
    }
   ],
   "source": [
    "res.text"
   ]
  },
  {
   "cell_type": "code",
   "execution_count": 6,
   "metadata": {},
   "outputs": [],
   "source": [
    "res = requests.get(\"https://www.google.co.kr/search?q=sfari+google+address+search&oq=sfari+google+address+search&aqs=chrome..69i57.406j0j4&sourceid=chrome&ie=UTF-8\")"
   ]
  },
  {
   "cell_type": "code",
   "execution_count": 7,
   "metadata": {
    "scrolled": true
   },
   "outputs": [
    {
     "data": {
      "text/plain": [
       "'<!doctype html><html itemscope=\"\" itemtype=\"http://schema.org/SearchResultsPage\" lang=\"ko\"><head><meta content=\"text/html; charset=UTF-8\" http-equiv=\"Content-Type\"><meta content=\"/images/branding/googleg/1x/googleg_standard_color_128dp.png\" itemprop=\"image\"><link href=\"/images/branding/product/ico/googleg_lodp.ico\" rel=\"shortcut icon\"><title>sfari google address search - Google 검색</title><style>#gbar,#guser{font-size:13px;padding-top:1px !important;}#gbar{height:22px}#guser{padding-bottom:7px !important;text-align:right}.gbh,.gbd{border-top:1px solid #c9d7f1;font-size:1px}.gbh{height:0;position:absolute;top:24px;width:100%}@media all{.gb1{height:22px;margin-right:.5em;vertical-align:top}#gbar{float:left}}a.gb1,a.gb4{text-decoration:underline !important}a.gb1,a.gb4{color:#00c !important}.gbi .gb4{color:#dd8e27 !important}.gbf .gb4{color:#900 !important} </style><style>.star{float:left;margin-top:1px;overflow:hidden}.ybhkme{font-size:11px}.j{width:34em}body,td,div,.p,a{font-family:arial,sans-serif;tap-highlight-color:rgba(255,255,255,0)}body{margin:0}a img{border:0}#gbar{float:left;height:22px;padding-left:2px;font-size:13px}.gsfi,.gsfs{font-size:17px}.w,.q:active,.q:visited,.tbotu{color:#11c}a.gl{text-decoration:none}#foot{padding:0 8px}#foot a{white-space:nowrap}h3{font-size:16px;font-weight:normal;margin:0;padding:0}#res h3{display:inline}.hd{height:1px;position:absolute;top:-1000em}.g,body,html,table,.std{font-size:13px}.g{margin-bottom:23px;margin-top:0;zoom:1}ol li,ul li{list-style:none}h1,ol,ul,li{margin:0;padding:0}.e{margin:2px 0 0.75em}#leftnav a{text-decoration:none}#leftnav h2{color:#767676;font-weight:normal;margin:0}#nav{border-collapse:collapse;margin-top:17px;text-align:left}#nav td{text-align:center}.nobr{white-space:nowrap}.ts{border-collapse:collapse}.s br{display:none}.csb{display:block;height:40px}.images_table td{line-height:17px;padding-bottom:16px}.images_table img{border:1px solid #ccc;padding:1px}#tbd,#abd{display:block;min-height:1px}#abd{padding-top:3px}#tbd li{display:inline}.TIrJXe,.UU5df{margin-bottom:8px}#tbd .tbt li{display:block;font-size:13px;line-height:1.2;padding-bottom:3px;padding-left:8px;text-indent:-8px}.tbos,.b{font-weight:bold}em{font-weight:bold;font-style:normal}.mime{color:#1a0dab;font-weight:bold;font-size:x-small}.soc a{text-decoration:none}.soc{color:#808080}.ul7Gbc{color:#e7711b}#Db7kif{border:1px solid #e0e0e0;margin-left:-8px;margin-right:-8px;padding:15px 20px 5px}.mrH1y{font-size:32px}.PZ6wOb{color:#777;font-size:16px;margin-top:5px}.gwrItc{color:#777;font-size:14px;margin-top:5px}.SVob4e{border:1px solid #e0e0e0;padding-left:20px}.mYu5Hb{border:1px solid #e0e0e0;padding:5px 20px}#vob{border:1px solid #e0e0e0;padding:15px 15px}#ZjIC2e{font-size:22px;line-height:22px;padding-bottom:5px}#vob_st{line-height:1.24}.DfLGHd{border-width:1px;border-style:solid;border-color:#eee;background-color:#fff;position:relative;margin-bottom:26px}.uRIxYb,.NjTIc,.PftIHd,.DXoZmb{font-family:Arial;font-weight:lighter}.uRIxYb{margin-bottom:5px}.uRIxYb{font-size:xx-large}.NjTIc{font-size:medium}.PftIHd{font-size:large}.DXoZmb{font-size:small}.DfLGHd{margin-left:-8px;margin-right:-15px;padding:20px 20px 24px}.ernfsc{border-spacing:0px 2px}.D3VFNd{max-width:380px;text-overflow:ellipsis;white-space:nowrap;overflow:hidden;padding-left:0px}.c1Ujmc{padding-left:15px;white-space:nowrap;color:#666}.EjZtie{padding-left:0px}.SFt5jb{color:#212121}.Pt7r9e{color:#878787}.bkcGhd{color:#093}.fIP9ce{color:#c00}.LDBB9d{padding:1px}.gssb_a{padding:0 10px !important}.gssb_c{left:132px !important;right:295px !important;top:78px !important;width:572px !important}.gssb_c table{font-size:16px !important}.gssb_e{border:1px solid #ccc !important;border-top-color:#d9d9d9 !important}.gssb_i{background:#eee !important}#res{padding:0 8px}#rhs_block{padding-top:43px}#MCN7mf{padding:0 8px}#subform_ctrl{font-size:11px;height:17px;margin:5px 3px 0 17px}.taf{padding-bottom:3px}.WIkLp{padding:20px 0 3px}.FuZzl{padding:20px 0 3px}#topstuff .e{padding-bottom:6px}.slk .sld{width:250px}.slk{margin-bottom:-3px}.slk .zaHRAf{padding-bottom:5px;width:250px}.ac,.st{line-height:1.24}.mfr,#ofr{font-size:16px;margin:1em 0;padding:0 8px}.tZz6cc{padding-bottom:25px}.s{color:#545454}.ac{color:#545454}a.fl,.A8ul6 a,.osl a{color:#1a0dab;text-decoration:none}a:link{color:#1a0dab;cursor:pointer}#tads a:link{color:#1a0dab}#tads .soc a:link{color:#808080}a:visited{color:#61C}.blg a{text-decoration:none}cite,cite a:link{color:#006621;font-style:normal}#tads cite{color:#006621}.hJND5c{font-size:15px}.kvs{margin-top:1px}.hJND5c,.kvs,.slp{display:block;margin-bottom:1px}.kt{border-spacing:2px 0;margin-top:1px}.f{color:#808080}.L4Zeue{color:#093}h4.r{display:inline;font-size:small;font-weight:normal}.g{line-height:1.2}.NpC9Hd{display:inline-block;vertical-align:top;overflow:hidden;position:relative}.COi8F{margin:0 0 2em 1.3em}.COi8F li{list-style-type:disc}.osl{color:#777;margin-top:4px}.r{font-size:16px;margin:0}.spell{font-size:16px}.spell_orig{font-size:13px}.spell_orig a{text-decoration:none}.spell_orig b i{font-style:normal;font-weight:normal}.th{border:1px solid #ebebeb}.ts td{padding:0}.videobox{padding-bottom:3px}.slk a{text-decoration:none}#leftnav a:hover,#leftnav .tbou a:hover,.slk h3 a,a:hover{text-decoration:underline}#mn{table-layout:fixed;width:100%}#leftnav a{color:#222;font-size:13px}#leftnav{padding:43px 4px 4px 0}.tbos{color:#dd4b39}.tbt{margin-bottom:28px}#tbd{padding:0 0 0 16px}.tbou a{color:#222}#center_col{border:0;padding:0 8px 0 0}#topstuff .e{padding-top:3px}#topstuff .sp_cnt{padding-top:6px}#ab_name{color:#dd4b39;font:20px \"Arial\";margin-left:15px}#resultStats{color:#999;font-size:13px;overflow:hidden;white-space:nowrap}.mslg>td{padding-right:1px;padding-top:2px}.slk .sld{margin-top:2px;padding:5px 0 5px 5px}.fmp{padding-top:3px}.close_btn{overflow:hidden}#fll a,#bfl a{color:#1a0dab !important;margin:0 12px;text-decoration:none !important}.ng{color:#dd4b39}#mss{margin:.33em 0 0;padding:0;display:table}.NYKCib{display:inline-block;float:left;white-space:nowrap;padding-right:16px}#mss p{margin:0;padding-top:5px}.tn{border-bottom:1px solid #ebebeb;display:block;float:left;height:59px;line-height:54px;min-width:980px;padding:0;position:relative;white-space:nowrap}.qrSWbe,a.qrSWbe{color:#777;cursor:pointer;display:inline-block;font-family:arial,sans-serif;font-size:small;height:54px;line-height:54px;margin:0 8px;padding:0 8px;text-decoration:none;white-space:nowrap}.tnuiC{border-bottom:3px solid #dd4b39;color:#dd4b39;font-weight:bold;margin:2px 8px 0}a.KDZjCd:hover{color:black;text-decoration:none;white-space:nowrap}body{margin:0;padding:0}.sFTC8c{display:inline-block;float:left;margin-top:2px}.pqkqJe,a.pqkqJe{margin-left:1px}.sd{line-height:43px;padding:0 8px 0 9px}a:active,.osl a:active,.tbou a:active,#leftnav a:active{color:#dd4b39}#bfl a:active{color:#dd4b39 !important}.csb{background:url(/images/nav_logo229.png) no-repeat;overflow:hidden}.close_btn{background:url(/images/nav_logo229.png) no-repeat -138px -84px;height:14px;width:14px;display:block}.star{background:url(/images/nav_logo229.png) no-repeat -94px -245px;height:13px;width:65px;display:block}.star div,.star span{background:url(/images/nav_logo229.png) no-repeat 0 -245px;height:13px;width:65px;display:block}.Pj9hGd{display:inline;margin:0 3px;outline-color:transparent;overflow:hidden;position:relative}.Pj9hGd>div{outline-color:transparent}.CiacGf{border-color:transparent;border-style:solid dashed dashed;border-top-color:green;border-width:4px 4px 0 4px;cursor:pointer;display:inline-block;font-size:0;height:0;left:4px;line-height:0;outline-color:transparent;position:relative;top:-3px;width:0}.CiacGf{margin-top:-4px}.am-dropdown-menu{display:block;background:#fff;border:1px solid #dcdcdc;font-size:13px;left:0;padding:0;position:absolute;right:auto;white-space:nowrap;z-index:3}.mUpfKd{list-style:none;white-space:nowrap}.mUpfKd:hover{background-color:#eee}a.imx0m{color:#333;cursor:pointer;display:block;padding:7px 18px;text-decoration:none}#tads a.imx0m{color:#333}.sfbgg{background:#f1f1f1;border-bottom:1px solid #e5e5e5;height:71px}#logocont{z-index:1;padding-left:4px;padding-top:4px}#logo{display:block;height:49px;margin-top:12px;margin-left:12px;overflow:hidden;position:relative;width:137px}#logo img{left:0;position:absolute;top:-41px}.lst-a{background:white;border:1px solid #d9d9d9;border-top-color:silver;width:570px}.lst-a:hover{border:1px solid #b9b9b9;border-top:1px solid #a0a0a0;box-shadow:inset 0 1px 2px rgba(0,0,0,0.1);-webkit-box-shadow:inset 0 1px 2px rgba(0,0,0,0.1);-moz-box-shadow:inset 0 1px 2px rgba(0,0,0,0.1)}.lst-td{border:none;padding:0}.tia input{border-right:none;padding-right:0}.tia{padding-right:0}.lst{background:none;border:none;color:#000;font:16px arial,sans-serif;float:left;height:22px;margin:0;padding:3px 6px 2px 9px;vertical-align:top;width:100%;word-break:break-all}.lst:focus{outline:none}.lst-b{background:none;border:none;height:26px;padding:0 6px 0 12px}.ds{border-right:1px solid #e7e7e7;position:relative;height:29px;margin-left:17px;z-index:100}.lsbb{background-image:-moz-linear-gradient(top,#4d90fe,#4787ed);background-image:-ms-linear-gradient(top,#4d90fe,#4787ed);background-image:-o-linear-gradient(top,#4d90fe,#4787ed);background-image:-webkit-gradient(linear,left top,left bottom,from(#4d90fe),to(#4787ed));background-image:-webkit-linear-gradient(top,#4d90fe,#4787ed);background-image:linear-gradient(top,#4d90fe,#4787ed);border:1px solid #3079ed;border-radius:2px;background-color:#4d90fe;height:27px;width:68px}.lsbb:hover{background-image:-moz-linear-gradient(top,#4d90fe,#357ae8);background-image:-ms-linear-gradient(top,#4d90fe,#357ae8);background-image:-o-linear-gradient(top,#4d90fe,#357ae8);background-image:-webkit-gradient(linear,left top,left bottom,from(#4d90fe),to(#357ae8));background-image:-webkit-linear-gradient(top,#4d90fe,#357ae8);background-color:#357ae8;background-image:linear-gradient(top,#4d90fe,#357ae8);border:1px solid #2f5bb7}.lsb{background:transparent;background-position:0 -343px;background-repeat:repeat-x;border:none;color:#000;cursor:default;font:15px arial,sans-serif;height:29px;margin:0;vertical-align:top;width:100%}.lsb:active{-moz-box-shadow:inset 0 1px 2px rgba(0,0,0,0.3);-webkit-box-shadow:inset 0 1px 2px rgba(0,0,0,0.3);box-shadow:inset 0 1px 2px rgba(0,0,0,0.3);background:transparent;color:transparent;overflow:hidden;position:relative;width:100%}.sbico{color:transparent;display:inline-block;height:15px;margin:0 auto;margin-top:2px;width:15px;overflow:hidden}</style><script nonce=\"/GKqTQFZQ57bqE5mGRvdXQ==\">(function(){window.google={kEI:\\'z7ZRW7ffBsfO0gTBvofwDg\\',kEXPI:\\'0,1353746,58,1654,304,1017,39,241,336,8,367,1486,153,297,309,168,20,135,578,2339146,213,214,32,318990,10304,1294,12383,2349,2506,32692,15247,867,317,1263,7,10576,14329,2192,369,548,664,326,1776,113,2201,3191,725,3,352,1362,130,130,5107,444,131,1119,2,578,728,311,2121,1361,1712,27,850,499,505,730,377,1240,479,1302,814,1,709,11,34,222,70,482,1232,1020,279,2,1038,1787,438,1198,483,42,22,604,2,153,506,1642,54,138,3,931,400,29,886,283,509,1587,296,1040,140,164,35,479,91,263,8,46,18,7,7,165,334,10,45,68,7,995,115,129,105,386,8,806,278,7,28,463,620,29,438,22,247,187,4,4,4,4,101,260,124,451,7,62,79,138,49,184,119,1,11,1236,366,132,827,642,226,41,99,719,223,121,74,122,200,202,115,99,373,2323620,3685998,12,2541\\',authuser:0,kscs:\\'c9c918f0_z7ZRW7ffBsfO0gTBvofwDg\\',kGL:\\'KR\\'};google.kHL=\\'ko\\';})();google.time=function(){return(new Date).getTime()};(function(){google.lc=[];google.li=0;google.getEI=function(a){for(var b;a&&(!a.getAttribute||!(b=a.getAttribute(\"eid\")));)a=a.parentNode;return b||google.kEI};google.getLEI=function(a){for(var b=null;a&&(!a.getAttribute||!(b=a.getAttribute(\"leid\")));)a=a.parentNode;return b};google.https=function(){return\"https:\"==window.location.protocol};google.ml=function(){return null};google.wl=function(a,b){try{google.ml(Error(a),!1,b)}catch(d){}};google.log=function(a,b,d,c,g){if(a=google.logUrl(a,b,d,c,g)){b=new Image;var e=google.lc,f=google.li;e[f]=b;b.onerror=b.onload=b.onabort=function(){delete e[f]};google.vel&&google.vel.lu&&google.vel.lu(a);b.src=a;google.li=f+1}};google.logUrl=function(a,b,d,c,g){var e=\"\",f=google.ls||\"\";d||-1!=b.search(\"&ei=\")||(e=\"&ei=\"+google.getEI(c),-1==b.search(\"&lei=\")&&(c=google.getLEI(c))&&(e+=\"&lei=\"+c));c=\"\";!d&&google.cshid&&-1==b.search(\"&cshid=\")&&\"slh\"!=a&&(c=\"&cshid=\"+google.cshid);a=d||\"/\"+(g||\"gen_204\")+\"?atyp=i&ct=\"+a+\"&cad=\"+b+e+f+\"&zx=\"+google.time()+c;/^http:/i.test(a)&&google.https()&&(google.ml(Error(\"a\"),!1,{src:a,glmm:1}),a=\"\");return a};}).call(this);(function(){google.y={};google.x=function(a,b){if(a)var c=a.id;else{do c=Math.random();while(google.y[c])}google.y[c]=[a,b];return!1};google.lm=[];google.plm=function(a){google.lm.push.apply(google.lm,a)};google.lq=[];google.load=function(a,b,c){google.lq.push([[a],b,c])};google.loadAll=function(a,b){google.lq.push([a,b])};}).call(this);google.f={};(function(){var b={gen204:\"dcl\",clearcut:4};var c=[function(){google.c&&google.tick(\"load\",b)}];google.dclc=function(a){c.length?c.push(a):a()};function d(){for(var a;a=c.shift();)a()}window.addEventListener?(document.addEventListener(\"DOMContentLoaded\",d,!1),window.addEventListener(\"load\",d,!1)):window.attachEvent&&window.attachEvent(\"onload\",d);}).call(this);</script><script type=\"text/javascript\" nonce=\"/GKqTQFZQ57bqE5mGRvdXQ==\"></script><script nonce=\"/GKqTQFZQ57bqE5mGRvdXQ==\">(function(){google.sham=function(c){for(var d=c.parentElement,a=null,b=0;b<d.childNodes.length;b++){var e=d.childNodes[b];-1<(\" \"+e.className+\" \").indexOf(\" am-dropdown-menu \")&&(a=e)}\"none\"==a.style.display?(a.style.display=\"\",google.log(\"hpam\",\"&ved=\"+c.getAttribute(\"data-ved\"))):a.style.display=\"none\"};}).call(this);(function(){var b=[];google.jsc={xx:b,x:function(a){b.push(a)},mm:[],m:function(a){google.jsc.mm=a}};}).call(this);</script></head><body class=\"hsrp\" bgcolor=\"#ffffff\" marginheight=\"0\" marginwidth=\"0\" topmargin=\"0\"><div id=gbar><nobr><b class=gb1>검색</b> <a class=gb1 href=\"https://www.google.co.kr/search?hl=ko&tbm=isch&source=og&tab=wi\">이미지</a> <a class=gb1 href=\"https://maps.google.co.kr/maps?hl=ko&tab=wl\">지도</a> <a class=gb1 href=\"https://play.google.com/?hl=ko&tab=w8\">Play</a> <a class=gb1 href=\"https://www.youtube.com/results?gl=KR&tab=w1\">YouTube</a> <a class=gb1 href=\"https://news.google.co.kr/nwshp?hl=ko&tab=wn\">뉴스</a> <a class=gb1 href=\"https://mail.google.com/mail/?tab=wm\">Gmail</a> <a class=gb1 href=\"https://drive.google.com/?tab=wo\">드라이브</a> <a class=gb1 style=\"text-decoration:none\" href=\"https://www.google.co.kr/intl/ko/options/\"><u>더보기</u> &raquo;</a></nobr></div><div id=guser width=100%><nobr><span id=gbn class=gbi></span><span id=gbf class=gbf></span><span id=gbe></span><a href=\"http://www.google.co.kr/history/optout?hl=ko\" class=gb4>웹 기록</a> | <a  href=\"/preferences?hl=ko\" class=gb4>설정</a> | <a target=_top id=gb_70 href=\"https://accounts.google.com/ServiceLogin?hl=ko&passive=true&continue=https://www.google.co.kr/search%3Fq%3Dsfari%2Bgoogle%2Baddress%2Bsearch%26oq%3Dsfari%2Bgoogle%2Baddress%2Bsearch%26aqs%3Dchrome..69i57.406j0j4%26sourceid%3Dchrome%26ie%3DUTF-8\" class=gb4>로그인</a></nobr></div><div class=gbh style=left:0></div><div class=gbh style=right:0></div><table id=\"mn\" border=\"0\" cellpadding=\"0\" cellspacing=\"0\" style=\"position:relative\"><tr><th width=\"132\"></th><th width=\"573\"></th><th width=\"278\"></th><th></th></tr><tr><td class=\"sfbgg\" valign=\"top\"><div id=\"logocont\"><h1><a href=\"/webhp?hl=ko\" style=\"background:url(/images/nav_logo229.png) no-repeat 0 -41px;height:37px;width:95px;display:block\" id=\"logo\" title=\"Go to Google Home\"></a></h1></div></td><td class=\"sfbgg\" colspan=\"2\" valign=\"top\" style=\"padding-left:0px\"><form style=\"display:block;margin:0;background:none\" action=\"/search\" id=\"tsf\" method=\"GET\" name=\"gs\"><table border=\"0\" cellpadding=\"0\" cellspacing=\"0\" style=\"margin-top:20px;position:relative\"><tr><td><div class=\"lst-a\"><table cellpadding=\"0\" cellspacing=\"0\"><tr><td class=\"lst-td tia\" width=\"526\" valign=\"bottom\"><div style=\"position:relative;zoom:1\"><input class=\"lst\" value=\"sfari google address search\" title=\"검색\" autocomplete=\"off\" id=\"sbhost\" maxlength=\"2048\" name=\"q\" type=\"text\"></div></td><td class=\"lst-td\"><div class=\"lst-b\"><img style=\"padding-top:2px\" src=\"/textinputassistant/tia.png\" onclick=\"(function(){var text_input_assistant_js=\\'/textinputassistant/11/ko_tia.js\\';var s = document.createElement(\\'script\\');s.src = text_input_assistant_js;(document.getElementById(\\'xjsc\\')|| document.body).appendChild(s);})();\" alt=\"\" height=\"23\" width=\"27\"></div></td></tr></table></div></td><td><div class=\"ds\" style=\"margin-left:16px\"><div class=\"lsbb\"><button class=\"lsb\" value=\"검색\" name=\"btnG\" type=\"submit\"><span class=\"sbico\" style=\"background:url(/images/nav_logo229.png) no-repeat -36px -111px;height:14px;width:13px;display:block\"></span></button></div></div></td></tr></table></form></td><td class=\"sfbgg\">&nbsp;</td></tr><tr style=\"position:relative\"><td><div style=\"border-bottom:1px solid #ebebeb;height:59px\"></div></td><td colspan=\"2\"><div class=\"tn\"><div class=\"qrSWbe tnuiC sFTC8c pqkqJe\">전체</div><div class=\"sFTC8c\"><a class=\"qrSWbe KDZjCd\" href=\"/search?q=safari+google+address+search&amp;ie=UTF-8&amp;prmd=ivns&amp;source=lnms&amp;tbm=isch&amp;sa=X&amp;ved=0ahUKEwj3gsfdua3cAhVHp5QKHUHfAe4Q_AUIBQ\">이미지</a></div><div class=\"sFTC8c\"><a class=\"qrSWbe KDZjCd\" href=\"/search?q=safari+google+address+search&amp;ie=UTF-8&amp;prmd=ivns&amp;source=lnms&amp;tbm=vid&amp;sa=X&amp;ved=0ahUKEwj3gsfdua3cAhVHp5QKHUHfAe4Q_AUIBg\">동영상</a></div><div class=\"sFTC8c\"><a class=\"qrSWbe KDZjCd\" href=\"/search?q=safari+google+address+search&amp;ie=UTF-8&amp;prmd=ivns&amp;source=lnms&amp;tbm=nws&amp;sa=X&amp;ved=0ahUKEwj3gsfdua3cAhVHp5QKHUHfAe4Q_AUIBw\">뉴스</a></div><div class=\"sFTC8c\"><a class=\"qrSWbe KDZjCd\" href=\"https://maps.google.co.kr/maps?q=safari+google+address+search&amp;um=1&amp;ie=UTF-8&amp;sa=X&amp;ved=0ahUKEwj3gsfdua3cAhVHp5QKHUHfAe4Q_AUICA\">지도</a></div><div class=\"sFTC8c\"><a class=\"qrSWbe KDZjCd\" href=\"/search?q=safari+google+address+search&amp;ie=UTF-8&amp;prmd=ivns&amp;source=lnms&amp;tbm=bks&amp;sa=X&amp;ved=0ahUKEwj3gsfdua3cAhVHp5QKHUHfAe4Q_AUICQ\">도서</a></div></div><div style=\"border-bottom:1px solid #ebebeb;height:59px\"></div></td><td><div style=\"border-bottom:1px solid #ebebeb;height:59px\"></div></td></tr><tbody id=\"desktop-search\"><style>.pCA4Bd,.pCA4Bd a:link,.pCA4Bd a:visited,a.pCA4Bd:link,a.pCA4Bd:visited{color:#808080}.AzrInc{color:#61C}.ellip{overflow:hidden;text-overflow:ellipsis;white-space:nowrap}</style><tr><td id=\"leftnav\" valign=\"top\"><div><h2 class=\"hd\">Search Options</h2><ul class=\"med\" id=\"tbd\"><li><ul class=\"tbt\"><li class=\"tbos\" id=\"lr_\">모든 언어</li><li class=\"tbou\" id=\"lr_lang_1ko\"><a class=\"q\" href=\"/search?q=safari+google+address+search&amp;ie=UTF-8&amp;prmd=ivns&amp;source=lnt&amp;tbs=lr:lang_1ko&amp;lr=lang_ko&amp;sa=X&amp;ved=0ahUKEwj3gsfdua3cAhVHp5QKHUHfAe4QpwUIDg\">한국어 웹</a></li></ul></li><li><ul class=\"tbt\"><li class=\"tbos\" id=\"qdr_\">모든 날짜</li><li class=\"tbou\" id=\"qdr_h\"><a class=\"q\" href=\"/search?q=safari+google+address+search&amp;ie=UTF-8&amp;prmd=ivns&amp;source=lnt&amp;tbs=qdr:h&amp;sa=X&amp;ved=0ahUKEwj3gsfdua3cAhVHp5QKHUHfAe4QpwUIDg\"> 지난 1시간</a></li><li class=\"tbou\" id=\"qdr_d\"><a class=\"q\" href=\"/search?q=safari+google+address+search&amp;ie=UTF-8&amp;prmd=ivns&amp;source=lnt&amp;tbs=qdr:d&amp;sa=X&amp;ved=0ahUKEwj3gsfdua3cAhVHp5QKHUHfAe4QpwUIDg\"> 지난 1일</a></li><li class=\"tbou\" id=\"qdr_w\"><a class=\"q\" href=\"/search?q=safari+google+address+search&amp;ie=UTF-8&amp;prmd=ivns&amp;source=lnt&amp;tbs=qdr:w&amp;sa=X&amp;ved=0ahUKEwj3gsfdua3cAhVHp5QKHUHfAe4QpwUIDg\"> 지난 1주</a></li><li class=\"tbou\" id=\"qdr_m\"><a class=\"q\" href=\"/search?q=safari+google+address+search&amp;ie=UTF-8&amp;prmd=ivns&amp;source=lnt&amp;tbs=qdr:m&amp;sa=X&amp;ved=0ahUKEwj3gsfdua3cAhVHp5QKHUHfAe4QpwUIDg\"> 지난 1개월</a></li><li class=\"tbou\" id=\"qdr_y\"><a class=\"q\" href=\"/search?q=safari+google+address+search&amp;ie=UTF-8&amp;prmd=ivns&amp;source=lnt&amp;tbs=qdr:y&amp;sa=X&amp;ved=0ahUKEwj3gsfdua3cAhVHp5QKHUHfAe4QpwUIDg\"> 지난 1년</a></li></ul></li><li><ul class=\"tbt\"><li class=\"tbos\" id=\"li_\">모든 결과</li><li class=\"tbou\" id=\"li_1\"><a class=\"q\" href=\"/search?q=sfari+google+address+search&amp;ie=UTF-8&amp;prmd=ivns&amp;source=lnt&amp;tbs=li:1&amp;sa=X&amp;ved=0ahUKEwj3gsfdua3cAhVHp5QKHUHfAe4QpwUIDg\">완전일치</a></li></ul></li></ul></div></td><td valign=\"top\"><div id=\"center_col\"><div class=\"sd\" id=\"resultStats\">검색결과 약 35,100,000개</div><div id=\"MCN7mf\" style=\"font-size:16px;margin-bottom:1em\"><div><span class=\"spell\">수정된 검색어에 대한 결과:</span> <a class=\"spell\" href=\"/search?q=safari+google+address+search&amp;hl=ko&amp;sa=X&amp;as_q=&amp;nfpr=&amp;spell=1&amp;ved=0ahUKEwj3gsfdua3cAhVHp5QKHUHfAe4QvwUIEA\"><em>safari</em> google address search</a><br><span class=\"spell_orig\">다음 검색어로 대신 검색: <a href=\"/search?q=sfari+google+address+search&amp;hl=ko&amp;sa=X&amp;as_q&amp;nfpr=1&amp;spell\"><em>sfari</em> google address search</a></span></div></div><div id=\"res\"><div id=\"topstuff\"></div><div id=\"search\"><div id=\"ires\"><ol><div class=\"g\"><h3 class=\"r\"><a href=\"/url?q=https://discussions.apple.com/thread/4146596&amp;sa=U&amp;ved=0ahUKEwj3gsfdua3cAhVHp5QKHUHfAe4QFggVMAA&amp;usg=AOvVaw3qhwaDXgVSaU7oFgt6bCp6\">separate <b>address</b> and <b>search</b> bar in <b>safari</b>… - Apple Community</a></h3><div class=\"s\"><div class=\"hJND5c\" style=\"margin-bottom:2px\"><cite>https://discussions.apple.com/thread/4146596</cite><div class=\"Pj9hGd\"><div style=\"display:inline\" onclick=\"google.sham(this);\" aria-expanded=\"false\" aria-haspopup=\"true\" tabindex=\"0\" data-ved=\"0ahUKEwj3gsfdua3cAhVHp5QKHUHfAe4Q7B0IFjAA\"><span class=\"CiacGf\"></span></div><div style=\"display:none\" class=\"am-dropdown-menu\" role=\"menu\" tabindex=\"-1\"><ul><li class=\"mUpfKd\"><a class=\"imx0m\" href=\"/url?q=http://webcache.googleusercontent.com/search%3Fq%3Dcache:a8UMUdCxfREJ:https://discussions.apple.com/thread/4146596%252Bsafari%2Bgoogle%2Baddress%2Bsearch%26hl%3Dko%26ct%3Dclnk&amp;sa=U&amp;ved=0ahUKEwj3gsfdua3cAhVHp5QKHUHfAe4QIAgYMAA&amp;usg=AOvVaw3haBQIjuYPJ_hN5kxz5jkQ\">저장된 페이지</a></li></ul></div></div></div><span class=\"st\">To change <b>search</b> engins either you have to go to <b>Safari</b> &gt; pref &gt; then ... Now <br>\\ntyping in any server <b>address</b> xxx.yyy.zz goes to <b>google</b>, thanks for&nbsp;...</span><br></div><div><table class=\"ernfsc\"><tr><td class=\"D3VFNd\"><a class=\"fl\" href=\"/url?q=https://discussions.apple.com/thread/7737346&amp;sa=U&amp;ved=0ahUKEwj3gsfdua3cAhVHp5QKHUHfAe4QrAIIGygAMAA&amp;usg=AOvVaw3gaocKfYlbLic6zpT79FDb\"><b>Safari</b> doesn&#39;t open <b>Google</b> Maps</a></td><td class=\"c1Ujmc\">게시물 16개</td><td class=\"c1Ujmc\">2016년 11월 6일</td></tr><tr><td class=\"D3VFNd\"><a class=\"fl\" href=\"/url?q=https://discussions.apple.com/thread/7268997&amp;sa=U&amp;ved=0ahUKEwj3gsfdua3cAhVHp5QKHUHfAe4QrAIIHCgBMAA&amp;usg=AOvVaw0Sq0PD0SSqKxGPZpynbMx4\">Question: Q: <b>Google Search</b> not working from <b>address</b> bar in ...</a></td><td class=\"c1Ujmc\">게시물 16개</td><td class=\"c1Ujmc\">2015년 10월 7일</td></tr><tr><td class=\"D3VFNd\"><a class=\"fl\" href=\"/url?q=https://discussions.apple.com/thread/6561130&amp;sa=U&amp;ved=0ahUKEwj3gsfdua3cAhVHp5QKHUHfAe4QrAIIHSgCMAA&amp;usg=AOvVaw2sj-nYarRJ6NmHjIVVPf81\">How to stop automatic redirect to yahoo i…</a></td><td class=\"c1Ujmc\">게시물 16개</td><td class=\"c1Ujmc\">2014년 9월 25일</td></tr><tr><td class=\"D3VFNd\"><a class=\"fl\" href=\"/url?q=https://discussions.apple.com/thread/6424901&amp;sa=U&amp;ved=0ahUKEwj3gsfdua3cAhVHp5QKHUHfAe4QrAIIHigDMAA&amp;usg=AOvVaw1J2i_nsF1vVj0AvcPJ3V8P\"><b>google</b> maps in <b>safari</b> history</a></td><td class=\"c1Ujmc\">게시물 3개</td><td class=\"c1Ujmc\">2014년 6월 29일</td></tr><tr><td class=\"EjZtie\" colspan=\"3\"><a class=\"fl\" href=\"/search?q=safari+google+address+search+site:discussions.apple.com&amp;hl=ko&amp;sa=X&amp;ved=0ahUKEwj3gsfdua3cAhVHp5QKHUHfAe4QrQIIHzAA\">discussions.apple.com 검색결과 더보기</a></td></tr></table></div></div><div class=\"g\"><h3 class=\"r\"><a href=\"/url?q=https://support.google.com/websearch/answer/3547192%3Fhl%3Dko&amp;sa=U&amp;ved=0ahUKEwj3gsfdua3cAhVHp5QKHUHfAe4QFgghMAE&amp;usg=AOvVaw3fdcl7e_FnXMsgMnLQiAJf\"><b>Safari</b>에서 <b>Google</b> 사용하기 - <b>Google 검색</b> 고객센터 - <b>Google</b> Support</a></h3><div class=\"s\"><div class=\"hJND5c\" style=\"margin-bottom:2px\"><cite>https://support.<b>google</b>.com/web<b>search</b>/answer/3547192?hl...</cite><div class=\"Pj9hGd\"><div style=\"display:inline\" onclick=\"google.sham(this);\" aria-expanded=\"false\" aria-haspopup=\"true\" tabindex=\"0\" data-ved=\"0ahUKEwj3gsfdua3cAhVHp5QKHUHfAe4Q7B0IIjAB\"><span class=\"CiacGf\"></span></div><div style=\"display:none\" class=\"am-dropdown-menu\" role=\"menu\" tabindex=\"-1\"><ul><li class=\"mUpfKd\"><a class=\"imx0m\" href=\"/url?q=http://webcache.googleusercontent.com/search%3Fq%3Dcache:VnXS7OX6qEwJ:https://support.google.com/websearch/answer/3547192%3Fhl%253Dko%252Bsafari%2Bgoogle%2Baddress%2Bsearch%26hl%3Dko%26ct%3Dclnk&amp;sa=U&amp;ved=0ahUKEwj3gsfdua3cAhVHp5QKHUHfAe4QIAgkMAE&amp;usg=AOvVaw1rmpCgcfU0cgp24Uyqce_t\">저장된 페이지</a></li><li class=\"mUpfKd\"><a class=\"imx0m\" href=\"/search?ie=UTF-8&amp;q=related:https://support.google.com/websearch/answer/3547192%3Fhl%3Dko+safari+google+address+search&amp;tbo=1&amp;sa=X&amp;ved=0ahUKEwj3gsfdua3cAhVHp5QKHUHfAe4QHwglMAE\">유사한 페이지</a></li></ul></div></div></div><span class=\"st\">iPhone 또는 iPad에서 <b>Safari</b> 브라우저를 사용하는 경우 <b>Google</b>을 기본 <b>검색</b> 엔진<br>\\n으로 설정하거나 북마크를 만들어 <b>Google</b>로 빠르게 이동할 수 있습니다. 도움.</span><br></div></div><div class=\"g\"><h3 class=\"r\"><a href=\"/url?q=https://apple.stackexchange.com/questions/218487/is-there-a-way-to-disable-the-auto-recognition-of-addresses-in-safari&amp;sa=U&amp;ved=0ahUKEwj3gsfdua3cAhVHp5QKHUHfAe4QFggnMAI&amp;usg=AOvVaw0LXqJUgFuYn0J2hZE_0Kxn\"><b>contacts</b> - Is there a way to disable the auto-recognition of <b>...</b></a></h3><div class=\"s\"><div class=\"hJND5c\" style=\"margin-bottom:2px\"><cite>https://apple.stackexchange.com/.../is-there-a-way-to-disable-the-auto- recognition-of-<b>addresses</b>-in-<b>safari</b></cite><div class=\"Pj9hGd\"><div style=\"display:inline\" onclick=\"google.sham(this);\" aria-expanded=\"false\" aria-haspopup=\"true\" tabindex=\"0\" data-ved=\"0ahUKEwj3gsfdua3cAhVHp5QKHUHfAe4Q7B0IKDAC\"><span class=\"CiacGf\"></span></div><div style=\"display:none\" class=\"am-dropdown-menu\" role=\"menu\" tabindex=\"-1\"><ul><li class=\"mUpfKd\"><a class=\"imx0m\" href=\"/url?q=http://webcache.googleusercontent.com/search%3Fq%3Dcache:f7oZaab4w5UJ:https://apple.stackexchange.com/questions/218487/is-there-a-way-to-disable-the-auto-recognition-of-addresses-in-safari%252Bsafari%2Bgoogle%2Baddress%2Bsearch%26hl%3Dko%26ct%3Dclnk&amp;sa=U&amp;ved=0ahUKEwj3gsfdua3cAhVHp5QKHUHfAe4QIAgqMAI&amp;usg=AOvVaw1y8aALjYMi7yNsp8tB4Yi0\">저장된 페이지</a></li><li class=\"mUpfKd\"><a class=\"imx0m\" href=\"/search?ie=UTF-8&amp;q=related:https://apple.stackexchange.com/questions/218487/is-there-a-way-to-disable-the-auto-recognition-of-addresses-in-safari+safari+google+address+search&amp;tbo=1&amp;sa=X&amp;ved=0ahUKEwj3gsfdua3cAhVHp5QKHUHfAe4QHwgrMAI\">유사한 페이지</a></li></ul></div></div></div><span class=\"st\">This is almost definitely caused by a setting in your system preferences: enter <br>\\nimage description here Maybe you have the new trackpad (or a&nbsp;...</span><br></div><div><table class=\"ernfsc\"><tr><td class=\"D3VFNd\"><a class=\"fl\" href=\"/url?q=https://apple.stackexchange.com/questions/74162/turn-off-address-bar-search&amp;sa=U&amp;ved=0ahUKEwj3gsfdua3cAhVHp5QKHUHfAe4QrAIILigAMAI&amp;usg=AOvVaw1cXyN9TVRv7G6R6Q-jgbhY\">macos - Turn off <b>address</b> bar <b>search</b></a></td><td class=\"c1Ujmc\">답변 2</td><td class=\"c1Ujmc\">2012년 12월 7일</td></tr><tr><td class=\"D3VFNd\"><a class=\"fl\" href=\"/url?q=https://apple.stackexchange.com/questions/59475/how-can-i-copy-a-google-search-url-from-safari&amp;sa=U&amp;ved=0ahUKEwj3gsfdua3cAhVHp5QKHUHfAe4QrAIILygBMAI&amp;usg=AOvVaw3amVBDW6Hbj_f2DSf1YFJF\">How can I copy a <b>Google search</b> URL from <b>Safari</b>?</a></td><td class=\"c1Ujmc\">답변 6</td><td class=\"c1Ujmc\">2012년 8월 11일</td></tr><tr><td class=\"D3VFNd\"><a class=\"fl\" href=\"/url?q=https://apple.stackexchange.com/questions/58225/is-there-an-option-to-show-the-real-url-when-you-do-search-on-safari-6&amp;sa=U&amp;ved=0ahUKEwj3gsfdua3cAhVHp5QKHUHfAe4QrAIIMCgCMAI&amp;usg=AOvVaw0Nd-1qdxv8A8gyqESiMTEU\">Is there an option to show the real url when you do <b>search</b> on <b>...</b></a></td><td class=\"c1Ujmc\">답변 8</td><td class=\"c1Ujmc\">2012년 7월 29일</td></tr><tr><td class=\"D3VFNd\"><a class=\"fl\" href=\"/url?q=https://apple.stackexchange.com/questions/9917/can-i-combine-the-address-bar-and-the-google-search-bar-in-safari&amp;sa=U&amp;ved=0ahUKEwj3gsfdua3cAhVHp5QKHUHfAe4QrAIIMSgDMAI&amp;usg=AOvVaw0X4Xvrl1HYD0V-_FBPkfcz\">Can I combine the <b>address</b> bar and the <b>Google search</b> bar in <b>Safari</b> <b>...</b></a></td><td class=\"c1Ujmc\">답변 2</td><td class=\"c1Ujmc\">2011년 3월 10일</td></tr></table></div></div><div class=\"g\"><table class=\"ts\"><tr><td colspan=\"2\"><h3 class=\"r\"><a href=\"/url?q=https://www.youtube.com/watch%3Fv%3DR4lbQC70cfM&amp;sa=U&amp;ved=0ahUKEwj3gsfdua3cAhVHp5QKHUHfAe4QtwIINDAD&amp;usg=AOvVaw0JnpMFja2myimeGeWInaPS\">How to Install <b>Google Search</b> Bar in <b>Safari</b> - YouTube</a></h3></td></tr><tr><td valign=\"top\" width=\"1\" style=\"padding:4px 8px 0 0\"><div class=\"th\" style=\"position:relative;overflow:hidden;width:116px;height:65px\"><a href=\"/url?q=https://www.youtube.com/watch%3Fv%3DR4lbQC70cfM&amp;sa=U&amp;ved=0ahUKEwj3gsfdua3cAhVHp5QKHUHfAe4QuAIINTADUAE&amp;usg=AOvVaw0Q0sAhhucr2RXH3O6DdLNZ\"><div style=\"margin-top:-11px\"><img src=\"https://img.youtube.com/vi/R4lbQC70cfM/default.jpg\" width=\"116\" alt=\"safari google address search 동영상\" align=\"middle\"></div><div style=\"position:absolute;bottom:0;right:0;font-size:11px;color:#fff;background-color:#222;padding:1px 3px;text-decoration:none;font-weight:bold;text-align:right\">&#9658; 1:09</div></a></div></td><td valign=\"top\" style=\"padding-top:1px\"><cite class=\"hJND5c\">https://www.youtube.com/watch?v=R4lbQC70cfM</cite><span class=\"st\"><span class=\"f\"><span class=\"nobr\">2013년 6월 10일</span> - <span class=\"nobr\">1분</span> - <span class=\"nobr\">업로더: Windows and Linux Tutorials from Howtech</span></span><br>In this tutorial you will learn how to add <b>Google search</b> bar to <b>Safari</b>. Don&#39;t forget  to check <b>...</b></span></td></tr></table></div><div class=\"g\"><table class=\"ts\"><tr><td colspan=\"2\"><h3 class=\"r\"><a href=\"/url?q=https://www.youtube.com/watch%3Fv%3DIoeJwPxgPq0&amp;sa=U&amp;ved=0ahUKEwj3gsfdua3cAhVHp5QKHUHfAe4QtwIIODAE&amp;usg=AOvVaw1ljEt9S4cu9U61bKZ-wakK\"><b>Safari</b>: <b>Google</b>™ toolbar and <b>address</b> bar missing - YouTube</a></h3></td></tr><tr><td valign=\"top\" width=\"1\" style=\"padding:4px 8px 0 0\"><div class=\"th\" style=\"position:relative;overflow:hidden;width:116px;height:65px\"><a href=\"/url?q=https://www.youtube.com/watch%3Fv%3DIoeJwPxgPq0&amp;sa=U&amp;ved=0ahUKEwj3gsfdua3cAhVHp5QKHUHfAe4QuAIIOTAEUAE&amp;usg=AOvVaw38GlS93oVzy1k02OkNihN1\"><div style=\"margin-top:-11px\"><img src=\"https://img.youtube.com/vi/IoeJwPxgPq0/default.jpg\" width=\"116\" alt=\"safari google address search 동영상\" align=\"middle\"></div><div style=\"position:absolute;bottom:0;right:0;font-size:11px;color:#fff;background-color:#222;padding:1px 3px;text-decoration:none;font-weight:bold;text-align:right\">&#9658; 0:44</div></a></div></td><td valign=\"top\" style=\"padding-top:1px\"><cite class=\"hJND5c\">https://www.youtube.com/watch?v=IoeJwPxgPq0</cite><span class=\"st\"><span class=\"f\"><span class=\"nobr\">2012년 5월 10일</span> - <span class=\"nobr\">44초</span> - <span class=\"nobr\">업로더: How-to Videos</span></span><br>Has the <b>Google</b> toolbar and/or the <b>address</b> bar disappeared in <b>Safari</b>? Try these  steps to <b>...</b></span></td></tr></table></div><div class=\"g\"><h3 class=\"r\"><a href=\"/url?q=https://www.applevis.com/forum/ios-ios-app-discussion/there-google-search-field-safari&amp;sa=U&amp;ved=0ahUKEwj3gsfdua3cAhVHp5QKHUHfAe4QFgg7MAU&amp;usg=AOvVaw3nIcYJzTYLc8tT5mNRN6XI\">Is there a <b>google search</b> field in <b>Safari</b> | AppleVis</a></h3><div class=\"s\"><div class=\"hJND5c\" style=\"margin-bottom:2px\"><cite>https://www.applevis.com/.../there-<b>google</b>-<b>search</b>-field-<b>safari</b></cite><div class=\"Pj9hGd\"><div style=\"display:inline\" onclick=\"google.sham(this);\" aria-expanded=\"false\" aria-haspopup=\"true\" tabindex=\"0\" data-ved=\"0ahUKEwj3gsfdua3cAhVHp5QKHUHfAe4Q7B0IPDAF\"><span class=\"CiacGf\"></span></div><div style=\"display:none\" class=\"am-dropdown-menu\" role=\"menu\" tabindex=\"-1\"><ul><li class=\"mUpfKd\"><a class=\"imx0m\" href=\"/url?q=http://webcache.googleusercontent.com/search%3Fq%3Dcache:kz5csoFRBpIJ:https://www.applevis.com/forum/ios-ios-app-discussion/there-google-search-field-safari%252Bsafari%2Bgoogle%2Baddress%2Bsearch%26hl%3Dko%26ct%3Dclnk&amp;sa=U&amp;ved=0ahUKEwj3gsfdua3cAhVHp5QKHUHfAe4QIAg-MAU&amp;usg=AOvVaw0QG2imLglynKyOSpi8ELuz\">저장된 페이지</a></li></ul></div></div></div><span class=\"st\">Am trying to do a <b>Google search</b> in <b>safari</b> but I cannot seem to find the <b>search</b> ... <br>\\nWhenever open <b>safari</b> on iOS device there is the <b>address</b> bar</span><br></div></div><div class=\"g\"><h3 class=\"r\"><a href=\"/url?q=http://www.google.com/homepage/search/&amp;sa=U&amp;ved=0ahUKEwj3gsfdua3cAhVHp5QKHUHfAe4QFghBMAY&amp;usg=AOvVaw2SNqeSlrcEWHuTpAzYz21x\">Make <b>Google</b> your default <b>search</b> provider &#8211; <b>Google</b></a></h3><div class=\"s\"><div class=\"hJND5c\" style=\"margin-bottom:2px\"><cite>www.<b>google</b>.com/homepage/<b>search</b>/</cite><div class=\"Pj9hGd\"><div style=\"display:inline\" onclick=\"google.sham(this);\" aria-expanded=\"false\" aria-haspopup=\"true\" tabindex=\"0\" data-ved=\"0ahUKEwj3gsfdua3cAhVHp5QKHUHfAe4Q7B0IQjAG\"><span class=\"CiacGf\"></span></div><div style=\"display:none\" class=\"am-dropdown-menu\" role=\"menu\" tabindex=\"-1\"><ul><li class=\"mUpfKd\"><a class=\"imx0m\" href=\"/url?q=http://webcache.googleusercontent.com/search%3Fq%3Dcache:m5hzhIUbk84J:http://www.google.com/homepage/search/%252Bsafari%2Bgoogle%2Baddress%2Bsearch%26hl%3Dko%26ct%3Dclnk&amp;sa=U&amp;ved=0ahUKEwj3gsfdua3cAhVHp5QKHUHfAe4QIAhEMAY&amp;usg=AOvVaw02CT53zVAkhXn2zLPWUj2n\">저장된 페이지</a></li></ul></div></div></div><span class=\"st\">Make <b>Google</b> your default <b>search</b> engine. Click the Tools icon at the far right of the browser window. Select Internet options. In the General tab, find the <b>Search</b> section and click Settings. Select <b>Google</b>. Click Set as default and click Close.</span><br></div></div><div class=\"g\"><h3 class=\"r\"><a href=\"/url?q=https://www.linkedin.com/pulse/unable-type-search-your-safari-address-bar-read-joshua-preston&amp;sa=U&amp;ved=0ahUKEwj3gsfdua3cAhVHp5QKHUHfAe4QFghGMAc&amp;usg=AOvVaw0YU25BoZndEHK9vOZ0QufR\">Unable to type or <b>search</b> in your <b>Safari address</b> bar? Read this ...</a></h3><div class=\"s\"><div class=\"hJND5c\" style=\"margin-bottom:2px\"><cite>https://www.linkedin.com/.../unable-type-<b>search</b>-your-<b>safari</b>-<b>address</b>-bar-read -joshua-preston</cite><div class=\"Pj9hGd\"><div style=\"display:inline\" onclick=\"google.sham(this);\" aria-expanded=\"false\" aria-haspopup=\"true\" tabindex=\"0\" data-ved=\"0ahUKEwj3gsfdua3cAhVHp5QKHUHfAe4Q7B0IRzAH\"><span class=\"CiacGf\"></span></div><div style=\"display:none\" class=\"am-dropdown-menu\" role=\"menu\" tabindex=\"-1\"><ul><li class=\"mUpfKd\"><a class=\"imx0m\" href=\"/url?q=http://webcache.googleusercontent.com/search%3Fq%3Dcache:AESBOG0YUaYJ:https://www.linkedin.com/pulse/unable-type-search-your-safari-address-bar-read-joshua-preston%252Bsafari%2Bgoogle%2Baddress%2Bsearch%26hl%3Dko%26ct%3Dclnk&amp;sa=U&amp;ved=0ahUKEwj3gsfdua3cAhVHp5QKHUHfAe4QIAhJMAc&amp;usg=AOvVaw2w77fTlezZu2CJYW64gMsI\">저장된 페이지</a></li><li class=\"mUpfKd\"><a class=\"imx0m\" href=\"/search?ie=UTF-8&amp;q=related:https://www.linkedin.com/pulse/unable-type-search-your-safari-address-bar-read-joshua-preston+safari+google+address+search&amp;tbo=1&amp;sa=X&amp;ved=0ahUKEwj3gsfdua3cAhVHp5QKHUHfAe4QHwhKMAc\">유사한 페이지</a></li></ul></div></div></div><span class=\"st\">27 Jan 2016 <b>...</b> It seems <b>Google&#39;s</b> auto-suggest engine is down - resulting in <b>Safari</b> on ... Click the <br>\\n&#39;<b>Search</b>&#39; tab within <b>Safari</b> preferences and un-tick the box for&nbsp;...</span><br></div></div><div class=\"g\"><h3 class=\"r\"><a href=\"/url?q=https://www.benzinga.com/11/07/1781749/how-to-search-google-from-safaris-address-bar&amp;sa=U&amp;ved=0ahUKEwj3gsfdua3cAhVHp5QKHUHfAe4QFghNMAg&amp;usg=AOvVaw37MQjF-kPXAXtQRK21Z39k\">How to <b>search Google</b> from <b>Safari&#39;s address</b> bar | Benzinga</a></h3><div class=\"s\"><div class=\"hJND5c\" style=\"margin-bottom:2px\"><cite>https://www.benzinga.com/.../how-to-<b>search</b>-<b>google</b>-from-<b>safari</b>s-<b>address</b>-bar</cite><div class=\"Pj9hGd\"><div style=\"display:inline\" onclick=\"google.sham(this);\" aria-expanded=\"false\" aria-haspopup=\"true\" tabindex=\"0\" data-ved=\"0ahUKEwj3gsfdua3cAhVHp5QKHUHfAe4Q7B0ITjAI\"><span class=\"CiacGf\"></span></div><div style=\"display:none\" class=\"am-dropdown-menu\" role=\"menu\" tabindex=\"-1\"><ul><li class=\"mUpfKd\"><a class=\"imx0m\" href=\"/url?q=http://webcache.googleusercontent.com/search%3Fq%3Dcache:mggLVwIJj28J:https://www.benzinga.com/11/07/1781749/how-to-search-google-from-safaris-address-bar%252Bsafari%2Bgoogle%2Baddress%2Bsearch%26hl%3Dko%26ct%3Dclnk&amp;sa=U&amp;ved=0ahUKEwj3gsfdua3cAhVHp5QKHUHfAe4QIAhQMAg&amp;usg=AOvVaw1dJOHA14xQgO8XYVulS6xO\">저장된 페이지</a></li></ul></div></div></div><span class=\"st\">20 Jul 2011 <b>...</b> One developer has created an extension for <b>Safari</b> users that allows them to <br>\\neasily <b>search Google</b> directly from the <b>address</b> bar, just like in&nbsp;...</span><br></div></div><div class=\"g\"><h3 class=\"r\"><a href=\"/url?q=https://productforums.google.com/forum/%23!topic/maps/uE7-VmYSSB0%3Bcontext-place%3Dtopicsearchin/maps/category%243Agoogle-maps-for-desktop%257Csort:relevance%257Cspell:false&amp;sa=U&amp;ved=0ahUKEwj3gsfdua3cAhVHp5QKHUHfAe4QFghTMAk&amp;usg=AOvVaw2PabSmzCWejBB1YIcJU-vr\"><b>Google</b> Maps on <b>Safari&#39;s</b> default location isn&#39;t my Home location <b>...</b></a></h3><div class=\"s\"><div class=\"hJND5c\" style=\"margin-bottom:2px\"><cite>https://productforums.<b>google</b>.com/forum/#...topic<b>search</b>in/.../ category$3A<b>google</b>...</cite><div class=\"Pj9hGd\"><div style=\"display:inline\" onclick=\"google.sham(this);\" aria-expanded=\"false\" aria-haspopup=\"true\" tabindex=\"0\" data-ved=\"0ahUKEwj3gsfdua3cAhVHp5QKHUHfAe4Q7B0IVDAJ\"><span class=\"CiacGf\"></span></div><div style=\"display:none\" class=\"am-dropdown-menu\" role=\"menu\" tabindex=\"-1\"><ul><li class=\"mUpfKd\"><a class=\"imx0m\" href=\"/url?q=http://webcache.googleusercontent.com/search%3Fq%3Dcache:gxB0WambheMJ:https://productforums.google.com/forum/%2523!topic/maps/uE7-VmYSSB0%3Bcontext-place%253Dtopicsearchin/maps/category%243Agoogle-maps-for-desktop%25257Csort:relevance%25257Cspell:false%252Bsafari%2Bgoogle%2Baddress%2Bsearch%26hl%3Dko%26ct%3Dclnk&amp;sa=U&amp;ved=0ahUKEwj3gsfdua3cAhVHp5QKHUHfAe4QIAhWMAk&amp;usg=AOvVaw1WyBWN4Szujl6XN_dT9Qeo\">저장된 페이지</a></li></ul></div></div></div><span class=\"st\">I want to set my default location as my Home <b>address</b>, and it&#39;s already ... tools to <br>\\n<b>lookup</b> the associated location of your modem&#39;s ip <b>address</b>. this&nbsp;...</span><br></div></div></ol></div></div></div><div style=\"clear:both;margin-bottom:17px;overflow:hidden\"><div style=\"font-size:16px;padding:0 8px 1px\"><b>safari google address search</b> 관련 검색어</div><table border=\"0\" cellpadding=\"0\" cellspacing=\"0\"><tr><td valign=\"top\"><p class=\"aw5cc\" style=\"margin:3px 8px\"><a href=\"/search?ie=UTF-8&amp;q=%EC%82%AC%EC%A7%84+%EA%B2%80%EC%83%89+%EC%95%B1&amp;sa=X&amp;ved=0ahUKEwj3gsfdua3cAhVHp5QKHUHfAe4Q1QIIWigA\">사진 검색 앱</a></p></td><td valign=\"top\" style=\"padding-left:10px\"><p class=\"aw5cc\" style=\"margin:3px 8px\"><a href=\"/search?ie=UTF-8&amp;q=google+search&amp;sa=X&amp;ved=0ahUKEwj3gsfdua3cAhVHp5QKHUHfAe4Q1QIIWygB\">google search</a></p></td></tr><tr><td valign=\"top\"><p class=\"aw5cc\" style=\"margin:3px 8px\"><a href=\"/search?ie=UTF-8&amp;q=%EA%B5%AC%EA%B8%80+%EA%B3%A0%EA%B8%80+%EC%8A%A4+%EC%95%84%EC%9D%B4%ED%8F%B0&amp;sa=X&amp;ved=0ahUKEwj3gsfdua3cAhVHp5QKHUHfAe4Q1QIIXCgC\">구글 고글 스 아이폰</a></p></td><td valign=\"top\" style=\"padding-left:10px\"><p class=\"aw5cc\" style=\"margin:3px 8px\"><a href=\"/search?ie=UTF-8&amp;q=%EA%B5%AC%EA%B8%80+%EC%82%AC%EC%A7%84+%EC%9D%B8%EC%8B%9D&amp;sa=X&amp;ved=0ahUKEwj3gsfdua3cAhVHp5QKHUHfAe4Q1QIIXSgD\">구글 사진 인식</a></p></td></tr><tr><td valign=\"top\"><p class=\"aw5cc\" style=\"margin:3px 8px\"><a href=\"/search?ie=UTF-8&amp;q=%EA%B5%AC%EA%B8%80+%ED%99%88%ED%94%BC&amp;sa=X&amp;ved=0ahUKEwj3gsfdua3cAhVHp5QKHUHfAe4Q1QIIXigE\">구글 홈피</a></p></td><td valign=\"top\" style=\"padding-left:10px\"><p class=\"aw5cc\" style=\"margin:3px 8px\"><a href=\"/search?ie=UTF-8&amp;q=%EC%82%AC%EC%A7%84+%EC%B0%8D%EC%96%B4%EC%84%9C+%EA%B2%80%EC%83%89&amp;sa=X&amp;ved=0ahUKEwj3gsfdua3cAhVHp5QKHUHfAe4Q1QIIXygF\">사진 찍어서 검색</a></p></td></tr><tr><td valign=\"top\"><p class=\"aw5cc\" style=\"margin:3px 8px\"><a href=\"/search?ie=UTF-8&amp;q=%EA%B5%AC%EA%B8%80+%ED%95%9C%EA%B8%80&amp;sa=X&amp;ved=0ahUKEwj3gsfdua3cAhVHp5QKHUHfAe4Q1QIIYCgG\">구글 한글</a></p></td></tr></table></div></div><div id=\"foot\"><table align=\"center\" border=\"0\" cellpadding=\"0\" cellspacing=\"0\" id=\"nav\"><tr valign=\"top\"><td align=\"left\" class=\"b\"><span class=\"csb\" style=\"background-position:-24px 0;width:28px\"></span><b></b></td><td><span class=\"csb\" style=\"background-position:-53px 0;width:20px\"></span><b>1</b></td><td><a class=\"fl\" href=\"/search?q=safari+google+address+search&amp;ie=UTF-8&amp;prmd=ivns&amp;ei=z7ZRW7ffBsfO0gTBvofwDg&amp;start=10&amp;sa=N\"><span class=\"csb\" style=\"background-position:-74px 0;width:20px\"></span>2</a></td><td><a class=\"fl\" href=\"/search?q=safari+google+address+search&amp;ie=UTF-8&amp;prmd=ivns&amp;ei=z7ZRW7ffBsfO0gTBvofwDg&amp;start=20&amp;sa=N\"><span class=\"csb\" style=\"background-position:-74px 0;width:20px\"></span>3</a></td><td><a class=\"fl\" href=\"/search?q=safari+google+address+search&amp;ie=UTF-8&amp;prmd=ivns&amp;ei=z7ZRW7ffBsfO0gTBvofwDg&amp;start=30&amp;sa=N\"><span class=\"csb\" style=\"background-position:-74px 0;width:20px\"></span>4</a></td><td><a class=\"fl\" href=\"/search?q=safari+google+address+search&amp;ie=UTF-8&amp;prmd=ivns&amp;ei=z7ZRW7ffBsfO0gTBvofwDg&amp;start=40&amp;sa=N\"><span class=\"csb\" style=\"background-position:-74px 0;width:20px\"></span>5</a></td><td><a class=\"fl\" href=\"/search?q=safari+google+address+search&amp;ie=UTF-8&amp;prmd=ivns&amp;ei=z7ZRW7ffBsfO0gTBvofwDg&amp;start=50&amp;sa=N\"><span class=\"csb\" style=\"background-position:-74px 0;width:20px\"></span>6</a></td><td><a class=\"fl\" href=\"/search?q=safari+google+address+search&amp;ie=UTF-8&amp;prmd=ivns&amp;ei=z7ZRW7ffBsfO0gTBvofwDg&amp;start=60&amp;sa=N\"><span class=\"csb\" style=\"background-position:-74px 0;width:20px\"></span>7</a></td><td><a class=\"fl\" href=\"/search?q=safari+google+address+search&amp;ie=UTF-8&amp;prmd=ivns&amp;ei=z7ZRW7ffBsfO0gTBvofwDg&amp;start=70&amp;sa=N\"><span class=\"csb\" style=\"background-position:-74px 0;width:20px\"></span>8</a></td><td><a class=\"fl\" href=\"/search?q=safari+google+address+search&amp;ie=UTF-8&amp;prmd=ivns&amp;ei=z7ZRW7ffBsfO0gTBvofwDg&amp;start=80&amp;sa=N\"><span class=\"csb\" style=\"background-position:-74px 0;width:20px\"></span>9</a></td><td><a class=\"fl\" href=\"/search?q=safari+google+address+search&amp;ie=UTF-8&amp;prmd=ivns&amp;ei=z7ZRW7ffBsfO0gTBvofwDg&amp;start=90&amp;sa=N\"><span class=\"csb\" style=\"background-position:-74px 0;width:20px\"></span>10</a></td><td class=\"b\" style=\"text-align:left\"><a class=\"fl\" href=\"/search?q=safari+google+address+search&amp;ie=UTF-8&amp;prmd=ivns&amp;ei=z7ZRW7ffBsfO0gTBvofwDg&amp;start=10&amp;sa=N\" style=\"text-align:left\"><span class=\"csb\" style=\"background-position:-96px 0;width:71px\"></span><span style=\"display:block;margin-left:53px\">다음</span></a></td></tr></table><p class=\"A8ul6\" id=\"bfl\" style=\"margin:19px 0 0;text-align:center\"><a href=\"/advanced_search?q=safari+google+address+search&amp;ie=UTF-8&amp;prmd=ivns\">고급검색</a><a href=\"/support/websearch/bin/answer.py?answer=134479&amp;hl=ko\">검색 도움말</a> <a href=\"/tools/feedback/survey/html?productId=196&amp;query=safari+google+address+search&amp;hl=ko\">의견 보내기</a></p><div class=\"A8ul6\" id=\"fll\" style=\"margin:19px auto 19px auto;text-align:center\"><a href=\"/\">Google&nbsp;홈</a> <a href=\"/intl/ko/ads\">Google 광고 프로그램</a> <a href=\"/intl/ko/policies/privacy/\">개인정보처리방침</a> <a href=\"/intl/ko/policies/terms/\">약관</a> <a href=\"/intl/ko/about.html\">Google 정보</a></div></div></td><td id=\"rhs_block\" valign=\"top\"></td></tr></tbody></table><script type=\"text/javascript\" nonce=\"/GKqTQFZQ57bqE5mGRvdXQ==\">(function(){var eventid=\\'z7ZRW7ffBsfO0gTBvofwDg\\';google.kEI = eventid;})();</script><script src=\"/xjs/_/js/k=xjs.hp.en.jpXjwU-iV-g.O/m=sb_he,d/rt=j/d=1/rs=ACT90oFQ2pYAyP79cS-Oe4yxXiaKdSydTA\" nonce=\"/GKqTQFZQ57bqE5mGRvdXQ==\"></script><script type=\"text/javascript\" nonce=\"/GKqTQFZQ57bqE5mGRvdXQ==\">google.ac&&google.ac.c({\"agen\":true,\"cgen\":true,\"client\":\"heirloom-serp\",\"dh\":true,\"dhqt\":true,\"ds\":\"\",\"ffql\":\"ko\",\"fl\":true,\"host\":\"google.co.kr\",\"isbh\":28,\"jsonp\":true,\"msgs\":{\"cibl\":\"검색어 지우기\",\"dym\":\"이것을 찾으셨나요?\",\"lcky\":\"I’m Feeling Lucky\",\"lml\":\"자세히 알아보기\",\"oskt\":\"입력 도구\",\"psrc\":\"검색어가 \\\\u003Ca href=\\\\\"/history\\\\\"\\\\u003E웹 기록\\\\u003C/a\\\\u003E에서 삭제되었습니다.\",\"psrl\":\"삭제\",\"sbit\":\"이미지로 검색\",\"srch\":\"Google 검색\"},\"nds\":true,\"ovr\":{},\"pq\":\"safari google address search\",\"refpd\":true,\"refspre\":true,\"rfs\":[\"사진 검색 앱\",\"구글 고글 스 아이폰\",\"구글 홈피\",\"구글 한글\",\"google search\",\"구글 사진 인식\",\"사진 찍어서 검색\"],\"sbpl\":24,\"sbpr\":24,\"scd\":10,\"sce\":5,\"stok\":\"6zx5lm11Mm5mFifYZFwzm_NYc7g\"})</script><script nonce=\"/GKqTQFZQ57bqE5mGRvdXQ==\">(function(){window.google.cdo={height:0,width:0};(function(){var a=window.innerWidth,b=window.innerHeight;if(!a||!b){var c=window.document,d=\"CSS1Compat\"==c.compatMode?c.documentElement:c.body;a=d.clientWidth;b=d.clientHeight}a&&b&&(a!=google.cdo.width||b!=google.cdo.height)&&google.log(\"\",\"\",\"/client_204?&atyp=i&biw=\"+a+\"&bih=\"+b+\"&ei=\"+google.kEI);}).call(this);})();</script></body></html>'"
      ]
     },
     "execution_count": 7,
     "metadata": {},
     "output_type": "execute_result"
    }
   ],
   "source": [
    "res.text"
   ]
  },
  {
   "cell_type": "code",
   "execution_count": 73,
   "metadata": {},
   "outputs": [],
   "source": [
    "headers = {\n",
    "    \"user-agent\": \"Mozilla/5.0 (Macintosh; Intel Mac OS X 10_12_6) AppleWebKit/605.1.15 (KHTML, like Gecko) Version/11.1.2 Safari/605.1.15\",\n",
    "    \"Accept-Encoding\": \"None\"\n",
    "}"
   ]
  },
  {
   "cell_type": "code",
   "execution_count": 10,
   "metadata": {},
   "outputs": [],
   "source": [
    "params = {\n",
    "    \"q\":\"이다니기여워\"\n",
    "}"
   ]
  },
  {
   "cell_type": "code",
   "execution_count": 11,
   "metadata": {},
   "outputs": [],
   "source": [
    "url = \"https://www.google.com/search\""
   ]
  },
  {
   "cell_type": "code",
   "execution_count": 12,
   "metadata": {},
   "outputs": [],
   "source": [
    "res = requests.get(url, params=params, headers=headers)"
   ]
  },
  {
   "cell_type": "code",
   "execution_count": 13,
   "metadata": {},
   "outputs": [
    {
     "data": {
      "text/plain": [
       "200"
      ]
     },
     "execution_count": 13,
     "metadata": {},
     "output_type": "execute_result"
    }
   ],
   "source": [
    "res.status_code"
   ]
  },
  {
   "cell_type": "code",
   "execution_count": 14,
   "metadata": {},
   "outputs": [
    {
     "data": {
      "text/plain": [
       "'UTF-8'"
      ]
     },
     "execution_count": 14,
     "metadata": {},
     "output_type": "execute_result"
    }
   ],
   "source": [
    "res.encoding"
   ]
  },
  {
   "cell_type": "code",
   "execution_count": 16,
   "metadata": {},
   "outputs": [
    {
     "data": {
      "text/plain": [
       "str"
      ]
     },
     "execution_count": 16,
     "metadata": {},
     "output_type": "execute_result"
    }
   ],
   "source": [
    "type(res.text)"
   ]
  },
  {
   "cell_type": "code",
   "execution_count": 19,
   "metadata": {},
   "outputs": [],
   "source": [
    "from bs4 import BeautifulSoup"
   ]
  },
  {
   "cell_type": "code",
   "execution_count": 28,
   "metadata": {},
   "outputs": [],
   "source": [
    "import lxml"
   ]
  },
  {
   "cell_type": "code",
   "execution_count": 52,
   "metadata": {},
   "outputs": [],
   "source": [
    "html = BeautifulSoup(res.text, features=\"html5lib\")"
   ]
  },
  {
   "cell_type": "code",
   "execution_count": 53,
   "metadata": {},
   "outputs": [],
   "source": [
    "links = html.select(\".rc > .r > a\")"
   ]
  },
  {
   "cell_type": "code",
   "execution_count": 54,
   "metadata": {},
   "outputs": [
    {
     "data": {
      "text/plain": [
       "6"
      ]
     },
     "execution_count": 54,
     "metadata": {},
     "output_type": "execute_result"
    }
   ],
   "source": [
    "len(links)"
   ]
  },
  {
   "cell_type": "code",
   "execution_count": 55,
   "metadata": {},
   "outputs": [
    {
     "data": {
      "text/plain": [
       "[<a href=\"https://ko-kr.facebook.com/public/%EC%9D%B4%EB%8B%A4%EB%8B%88\" onmousedown=\"return rwt(this,'','','','1','AOvVaw02zkzh6SVWqZ-uu5VCFskD','','0ahUKEwiCy_vdu63cAhVCLpQKHeKeA8wQFgglMAA','','',event)\">이다니 프로필 | Facebook</a>,\n",
       " <a href=\"https://glosbe.com/ko/en/%EA%B7%80%EC%97%BD%EB%8B%A4\" onmousedown=\"return rwt(this,'','','','17','AOvVaw1T7fYTLLtgEmcclGpoIPoe','','0ahUKEwiCy_vdu63cAhVCLpQKHeKeA8wQFghcMBA','','',event)\">귀엽다 - Korean-English Dictionary - Glosbe</a>,\n",
       " <a href=\"http://jong-in.net/bbs/zboard.php?id=index&amp;page=1&amp;sn1=&amp;divpage=1&amp;sn=off&amp;ss=on&amp;sc=on&amp;select_arrange=headnum&amp;desc=asc&amp;no=89\" onmousedown=\"return rwt(this,'','','','18','AOvVaw3qQ-QRTGTV6iDEBMN1_XhO','','0ahUKEwiCy_vdu63cAhVCLpQKHeKeA8wQFghsMBE','','',event)\">130907 KPOP REPUBLIC . 플뢰르 13.09.08 아아 김키티오빠... soso 13 ...</a>,\n",
       " <a href=\"https://www.toopics.com/2da_euni_\" onmousedown=\"return rwt(this,'','','','19','AOvVaw2yLcW9ZTYEAIxva7QrJ8oN','','0ahUKEwiCy_vdu63cAhVCLpQKHeKeA8wQFghyMBI','','',event)\">이다니 @2da_euni_ Instagram Profile | Toopics</a>,\n",
       " <a href=\"https://www.instagram.com/p/BeHvsu0DEhb/?hl=ko\" onmousedown=\"return rwt(this,'','','','20','AOvVaw1BZDluU7a1KaoGx3XSbsTO','','0ahUKEwiCy_vdu63cAhVCLpQKHeKeA8wQFgh1MBM','','',event)\">니니즈 NINIZ on Instagram: “이번엔 앙몬드 심층분석이다!   (feat. 쟈근 ...</a>,\n",
       " <a href=\"https://twitter.com/na_young_gon?lang=ar\" onmousedown=\"return rwt(this,'','','','21','AOvVaw2iL1Vnj6P7caCke667HH5Y','','0ahUKEwiCy_vdu63cAhVCLpQKHeKeA8wQFgh8MBQ','','',event)\">고니 (@NA_YOUNG_GON) | تويتر - Twitter</a>]"
      ]
     },
     "execution_count": 55,
     "metadata": {},
     "output_type": "execute_result"
    }
   ],
   "source": [
    "links"
   ]
  },
  {
   "cell_type": "code",
   "execution_count": 56,
   "metadata": {},
   "outputs": [
    {
     "name": "stdout",
     "output_type": "stream",
     "text": [
      "https://ko-kr.facebook.com/public/%EC%9D%B4%EB%8B%A4%EB%8B%88\n",
      "https://glosbe.com/ko/en/%EA%B7%80%EC%97%BD%EB%8B%A4\n",
      "http://jong-in.net/bbs/zboard.php?id=index&page=1&sn1=&divpage=1&sn=off&ss=on&sc=on&select_arrange=headnum&desc=asc&no=89\n",
      "https://www.toopics.com/2da_euni_\n",
      "https://www.instagram.com/p/BeHvsu0DEhb/?hl=ko\n",
      "https://twitter.com/na_young_gon?lang=ar\n"
     ]
    }
   ],
   "source": [
    "for link in links:\n",
    "    print(link[\"href\"])"
   ]
  },
  {
   "cell_type": "code",
   "execution_count": 61,
   "metadata": {},
   "outputs": [
    {
     "name": "stdout",
     "output_type": "stream",
     "text": [
      "return rwt(this,'','','','1','AOvVaw02zkzh6SVWqZ-uu5VCFskD','','0ahUKEwiCy_vdu63cAhVCLpQKHeKeA8wQFgglMAA','','',event)\n",
      "return rwt(this,'','','','17','AOvVaw1T7fYTLLtgEmcclGpoIPoe','','0ahUKEwiCy_vdu63cAhVCLpQKHeKeA8wQFghcMBA','','',event)\n",
      "return rwt(this,'','','','18','AOvVaw3qQ-QRTGTV6iDEBMN1_XhO','','0ahUKEwiCy_vdu63cAhVCLpQKHeKeA8wQFghsMBE','','',event)\n",
      "return rwt(this,'','','','19','AOvVaw2yLcW9ZTYEAIxva7QrJ8oN','','0ahUKEwiCy_vdu63cAhVCLpQKHeKeA8wQFghyMBI','','',event)\n",
      "return rwt(this,'','','','20','AOvVaw1BZDluU7a1KaoGx3XSbsTO','','0ahUKEwiCy_vdu63cAhVCLpQKHeKeA8wQFgh1MBM','','',event)\n",
      "return rwt(this,'','','','21','AOvVaw2iL1Vnj6P7caCke667HH5Y','','0ahUKEwiCy_vdu63cAhVCLpQKHeKeA8wQFgh8MBQ','','',event)\n"
     ]
    }
   ],
   "source": [
    "for link in links:\n",
    "    print(link[\"onmousedown\"])"
   ]
  },
  {
   "cell_type": "code",
   "execution_count": 112,
   "metadata": {},
   "outputs": [],
   "source": [
    "def getUrls(url, params=None, select=\"a\"):\n",
    "    res = requests.get(url, params=params, headers=headers)\n",
    "    res.encoding = \"utf-8\"\n",
    "    if res.status_code == 200:\n",
    "        html = BeautifulSoup(res.text, \"html5lib\")\n",
    "        links = html.select(select)\n",
    "    else:\n",
    "        links = []\n",
    "        print(res.status_code, res.reason)\n",
    "    \n",
    "    return [link[\"href\"] for link in links if link.has_attr(\"href\")]"
   ]
  },
  {
   "cell_type": "code",
   "execution_count": 65,
   "metadata": {},
   "outputs": [
    {
     "name": "stdout",
     "output_type": "stream",
     "text": [
      "https://ko-kr.facebook.com/public/%EC%9D%B4%EB%8B%A4%EB%8B%88 42\n",
      "https://glosbe.com/ko/en/%EA%B7%80%EC%97%BD%EB%8B%A4 78\n",
      "http://jong-in.net/bbs/zboard.php?id=index&page=1&sn1=&divpage=1&sn=off&ss=on&sc=on&select_arrange=headnum&desc=asc&no=89 24\n",
      "https://www.toopics.com/2da_euni_ 12\n",
      "https://www.instagram.com/p/BeHvsu0DEhb/?hl=ko 0\n",
      "https://twitter.com/na_young_gon?lang=ar 150\n"
     ]
    }
   ],
   "source": [
    "links = getUrls(url, params, \".rc > .r > a\")\n",
    "\n",
    "for link in links:\n",
    "    results = getUrls(link)\n",
    "    print(link, len(results))"
   ]
  },
  {
   "cell_type": "code",
   "execution_count": 118,
   "metadata": {},
   "outputs": [],
   "source": [
    "url = \"http://www.ppomppu.co.kr/zboard/zboard.php?id=freeboard\""
   ]
  },
  {
   "cell_type": "code",
   "execution_count": 123,
   "metadata": {
    "scrolled": true
   },
   "outputs": [
    {
     "name": "stdout",
     "output_type": "stream",
     "text": [
      "['view.php?id=regulation&page=1&divpage=202&no=6', 'view.php?id=freeboard&page=1&divpage=1112&no=5956840', 'view.php?id=freeboard&page=1&divpage=1112&no=5956839', 'view.php?id=freeboard&page=1&divpage=1112&no=5956838', 'view.php?id=freeboard&page=1&divpage=1112&no=5956837', 'view.php?id=freeboard&page=1&divpage=1112&no=5956836', 'view.php?id=freeboard&page=1&divpage=1112&no=5956835', 'view.php?id=freeboard&page=1&divpage=1112&no=5956834', 'view.php?id=freeboard&page=1&divpage=1112&no=5956833', 'view.php?id=freeboard&page=1&divpage=1112&no=5956832', 'view.php?id=freeboard&page=1&divpage=1112&no=5956831', 'view.php?id=freeboard&page=1&divpage=1112&no=5956830', 'view.php?id=freeboard&page=1&divpage=1112&no=5956829', 'view.php?id=freeboard&page=1&divpage=1112&no=5956828', 'view.php?id=freeboard&page=1&divpage=1112&no=5956827', 'view.php?id=freeboard&page=1&divpage=1112&no=5956826', 'view.php?id=freeboard&page=1&divpage=1112&no=5956825', 'view.php?id=freeboard&page=1&divpage=1112&no=5956824', 'view.php?id=freeboard&page=1&divpage=1112&no=5956823', 'view.php?id=freeboard&page=1&divpage=1112&no=5956822', 'view.php?id=freeboard&page=1&divpage=1112&no=5956821', 'view.php?id=freeboard&page=1&divpage=1112&no=5956820', 'view.php?id=freeboard&page=1&divpage=1112&no=5956819', 'view.php?id=freeboard&page=1&divpage=1112&no=5956818', 'view.php?id=freeboard&page=1&divpage=1112&no=5956817', 'view.php?id=freeboard&page=1&divpage=1112&no=5956816', 'view.php?id=freeboard&page=1&divpage=1112&no=5956815', 'view.php?id=freeboard&page=1&divpage=1112&no=5956814', 'view.php?id=freeboard&page=1&divpage=1112&no=5956813', 'view.php?id=freeboard&page=1&divpage=1112&no=5956812', 'view.php?id=freeboard&page=1&divpage=1112&no=5956811']\n"
     ]
    }
   ],
   "source": [
    "links = getUrls(url, select=\"td.list_vspace > a\")\n",
    "print(links)"
   ]
  },
  {
   "cell_type": "code",
   "execution_count": 120,
   "metadata": {},
   "outputs": [
    {
     "data": {
      "text/plain": [
       "['http://www.ppomppu.co.kr/zboard/zboard.php?id=ppomppu',\n",
       " 'http://www.ppomppu.co.kr/zboard/zboard.php?id=event',\n",
       " 'http://www.ppomppu.co.kr/zboard/zboard.php?id=buy',\n",
       " 'http://www.ppomppu.co.kr/zboard/zboard.php?id=help',\n",
       " 'http://www.ppomppu.co.kr/zboard/zboard.php?id=freeboard',\n",
       " 'http://www.ppomppu.co.kr/zboard/zboard.php?id=etc_info',\n",
       " 'http://www.ppomppu.co.kr/zboard/zboard.php?id=free_picture',\n",
       " 'http://www.ppomppu.co.kr/zboard/zboard.php?id=news2',\n",
       " 'http://www.ppomppu.co.kr/zboard/zboard.php?id=review',\n",
       " 'http://www.ppomppu.co.kr/recent_main_article.php?type=market',\n",
       " 'http://www.ppomppu.co.kr/myinfo/env.php?cmd=env',\n",
       " 'http://www.ppomppu.co.kr/myinfo/member_bookmark.php',\n",
       " 'http://www.ppomppu.co.kr/index.php',\n",
       " '/zboard/zboard.php?id=freeboard',\n",
       " 'http://www.ppomppu.co.kr/zboard/zboard.php?id=ppomppu',\n",
       " 'http://www.ppomppu.co.kr/zboard/zboard.php?id=ppomppu',\n",
       " 'http://www.ppomppu.co.kr/zboard/zboard.php?id=ppomppu2',\n",
       " 'http://www.ppomppu.co.kr/zboard/zboard.php?id=ppomppu4',\n",
       " 'http://www.ppomppu.co.kr/zboard/zboard.php?id=ppomppu3',\n",
       " 'http://www.ppomppu.co.kr/zboard/zboard.php?id=ppomppu5',\n",
       " 'http://www.ppomppu.co.kr/zboard/zboard.php?id=ppomppu7',\n",
       " 'http://www.ppomppu.co.kr/zboard/zboard.php?id=ppomppu6',\n",
       " 'http://www.ppomppu.co.kr/zboard/zboard.php?id=pmarket',\n",
       " 'http://www.ppomppu.co.kr/zboard/zboard.php?id=pmarket2',\n",
       " 'http://www.ppomppu.co.kr/zboard/zboard.php?id=pmarket3',\n",
       " 'http://www.ppomppu.co.kr/zboard/zboard.php?id=card_market',\n",
       " 'http://www.ppomppu.co.kr/zboard/zboard.php?id=pmarket7',\n",
       " 'http://www.ppomppu.co.kr/books/index.php',\n",
       " 'http://www.ppomppu.co.kr/hot.php',\n",
       " 'http://www.ppomppu.co.kr/hot_comment.php',\n",
       " 'http://www.ppomppu.co.kr/recent_main_article.php?type=event',\n",
       " 'http://www.ppomppu.co.kr/zboard/zboard.php?id=event',\n",
       " 'http://www.ppomppu.co.kr/zboard/zboard.php?id=coupon',\n",
       " 'http://www.ppomppu.co.kr/zboard/zboard.php?id=mobile',\n",
       " 'http://www.ppomppu.co.kr/zboard/zboard.php?id=experience',\n",
       " 'http://www.ppomppu.co.kr/zboard/zboard.php?id=wcoupon',\n",
       " 'http://www.ppomppu.co.kr/zboard/zboard.php?id=wow',\n",
       " 'http://www.ppomppu.co.kr/zboard/zboard.php?id=event_ppomppu',\n",
       " 'http://www.ppomppu.co.kr/recent_main_article.php?type=info',\n",
       " 'http://www.ppomppu.co.kr/zboard/zboard.php?id=etc_info',\n",
       " 'http://www.ppomppu.co.kr/zboard/zboard.php?id=ppomapp',\n",
       " 'http://www.ppomppu.co.kr/zboard/zboard.php?id=review',\n",
       " 'http://www.ppomppu.co.kr/zboard/zboard.php?id=agentnews',\n",
       " 'http://www.ppomppu.co.kr/zboard/zboard.php?id=receive',\n",
       " 'http://www.ppomppu.co.kr/zboard/zboard.php?id=buy',\n",
       " '/fortune/index.html',\n",
       " 'http://www.ppomppu.co.kr/zboard/zboard.php?id=flash_game',\n",
       " 'http://www.ppomppu.co.kr/zboard/zboard.php?id=freeboard',\n",
       " 'http://www.ppomppu.co.kr/zboard/zboard.php?id=freeboard',\n",
       " 'http://www.ppomppu.co.kr/zboard/zboard.php?id=issue',\n",
       " 'http://www.ppomppu.co.kr/zboard/zboard.php?id=humor',\n",
       " 'http://www.ppomppu.co.kr/zboard/zboard.php?id=help',\n",
       " 'http://www.ppomppu.co.kr/zboard/zboard.php?id=grade',\n",
       " 'http://www.ppomppu.co.kr/chat',\n",
       " 'http://www.ppomppu.co.kr/zboard/zboard.php?id=campaign',\n",
       " 'http://www.ppomppu.co.kr/zboard/zboard.php?id=free_picture',\n",
       " 'http://www.ppomppu.co.kr/zboard/zboard.php?id=free_picture',\n",
       " 'http://www.ppomppu.co.kr/zboard/zboard.php?id=mobile_gallery',\n",
       " 'http://www.ppomppu.co.kr/zboard/zboard.php?id=star',\n",
       " 'http://www.ppomppu.co.kr/zboard/zboard.php?id=sketch_gallery',\n",
       " 'http://www.ppomppu.co.kr/zboard/zboard.php?id=bg_gallery',\n",
       " 'http://www.ppomppu.co.kr/zboard/zboard.php?id=jjalbang',\n",
       " 'http://www.ppomppu.co.kr/zboard/zboard.php?id=picture',\n",
       " 'http://www.ppomppu.co.kr/zboard/zboard.php?id=review_gallery',\n",
       " 'http://www.ppomppu.co.kr/recent_main_article.php?type=market',\n",
       " 'http://www.ppomppu.co.kr/zboard/zboard.php?id=market',\n",
       " 'http://www.ppomppu.co.kr/zboard/zboard.php?id=market_phone',\n",
       " 'http://www.ppomppu.co.kr/zboard/zboard.php?id=market_data',\n",
       " 'http://www.ppomppu.co.kr/zboard/zboard.php?id=cmarket',\n",
       " 'http://www.ppomppu.co.kr/zboard/zboard.php?id=onmarket',\n",
       " 'http://www.ppomppu.co.kr/zboard/zboard.php?id=market_social',\n",
       " 'http://www.ppomppu.co.kr/zboard/zboard.php?id=market_oversea',\n",
       " 'http://www.ppomppu.co.kr/zboard/zboard.php?id=market_item',\n",
       " 'http://www.ppomppu.co.kr/zboard/zboard.php?id=market_talent',\n",
       " 'http://www.ppomppu.co.kr/zboard/zboard.php?id=market_bike',\n",
       " 'http://www.ppomppu.co.kr/zboard/zboard.php?id=market_ecig',\n",
       " 'http://www.ppomppu.co.kr/zboard/zboard.php?id=market_car',\n",
       " 'http://www.ppomppu.co.kr/zboard/zboard.php?id=market_camping',\n",
       " 'http://www.ppomppu.co.kr/zboard/zboard.php?id=gonggu',\n",
       " 'http://www.ppomppu.co.kr/zboard/zboard.php?id=gonggu_request',\n",
       " 'http://www.ppomppu.co.kr/zboard/zboard.php?id=market_agent',\n",
       " 'http://www.ppomppu.co.kr/zboard/zboard.php?id=guin',\n",
       " 'http://www.ppomppu.co.kr/zboard/zboard.php?id=market_story',\n",
       " 'http://www.ppomppu.co.kr/zboard/zboard.php?id=relay',\n",
       " 'http://www.ppomppu.co.kr/zboard/zboard.php?id=love',\n",
       " 'http://www.ppomppu.co.kr/recent_forum_article.php',\n",
       " 'http://www.ppomppu.co.kr/zboard/zboard.php?id=phone',\n",
       " 'http://www.ppomppu.co.kr/zboard/zboard.php?id=phone3',\n",
       " 'http://www.ppomppu.co.kr/zboard/zboard.php?id=phone2',\n",
       " 'http://www.ppomppu.co.kr/zboard/zboard.php?id=iphone',\n",
       " 'http://www.ppomppu.co.kr/zboard/zboard.php?id=tablet',\n",
       " 'http://www.ppomppu.co.kr/zboard/zboard.php?id=android',\n",
       " 'http://www.ppomppu.co.kr/zboard/zboard.php?id=androidtab',\n",
       " 'http://www.ppomppu.co.kr/zboard/zboard.php?id=wintab',\n",
       " 'http://www.ppomppu.co.kr/zboard/zboard.php?id=smartphone',\n",
       " 'http://www.ppomppu.co.kr/zboard/zboard.php?id=av',\n",
       " 'http://www.ppomppu.co.kr/zboard/zboard.php?id=mini',\n",
       " 'http://www.ppomppu.co.kr/zboard/zboard.php?id=computer',\n",
       " 'http://www.ppomppu.co.kr/zboard/zboard.php?id=nas',\n",
       " 'http://www.ppomppu.co.kr/zboard/zboard.php?id=macintosh',\n",
       " 'http://www.ppomppu.co.kr/zboard/zboard.php?id=golf',\n",
       " 'http://www.ppomppu.co.kr/zboard/zboard.php?id=fishing',\n",
       " 'http://www.ppomppu.co.kr/zboard/zboard.php?id=basketball',\n",
       " 'http://www.ppomppu.co.kr/zboard/zboard.php?id=climb',\n",
       " 'http://www.ppomppu.co.kr/zboard/zboard.php?id=motorbike',\n",
       " 'http://www.ppomppu.co.kr/zboard/zboard.php?id=lifesports',\n",
       " 'http://www.ppomppu.co.kr/zboard/zboard.php?id=swim',\n",
       " 'http://www.ppomppu.co.kr/zboard/zboard.php?id=ski',\n",
       " 'http://www.ppomppu.co.kr/zboard/zboard.php?id=scuba',\n",
       " 'http://www.ppomppu.co.kr/zboard/zboard.php?id=sports',\n",
       " 'http://www.ppomppu.co.kr/zboard/zboard.php?id=baseball',\n",
       " 'http://www.ppomppu.co.kr/zboard/zboard.php?id=ppom_baseball_team',\n",
       " 'http://www.ppomppu.co.kr/zboard/zboard.php?id=car',\n",
       " 'http://www.ppomppu.co.kr/zboard/zboard.php?id=bike',\n",
       " 'http://www.ppomppu.co.kr/zboard/zboard.php?id=soccer',\n",
       " 'http://www.ppomppu.co.kr/zboard/zboard.php?id=camping',\n",
       " 'http://www.ppomppu.co.kr/zboard/zboard.php?id=tennis',\n",
       " 'http://www.ppomppu.co.kr/zboard/zboard.php?id=health',\n",
       " 'http://www.ppomppu.co.kr/zboard/zboard.php?id=money',\n",
       " 'http://www.ppomppu.co.kr/zboard/zboard.php?id=social',\n",
       " 'http://www.ppomppu.co.kr/zboard/zboard.php?id=insurance',\n",
       " 'http://www.ppomppu.co.kr/zboard/zboard.php?id=stock',\n",
       " 'http://www.ppomppu.co.kr/zboard/zboard.php?id=soho',\n",
       " 'http://www.ppomppu.co.kr/zboard/zboard.php?id=bitcoin',\n",
       " 'http://www.ppomppu.co.kr/zboard/zboard.php?id=info_ico',\n",
       " 'http://www.ppomppu.co.kr/zboard/zboard.php?id=recommend',\n",
       " 'http://www.ppomppu.co.kr/zboard/zboard.php?id=lotto',\n",
       " 'http://www.ppomppu.co.kr/zboard/zboard.php?id=toto',\n",
       " 'http://www.ppomppu.co.kr/zboard/zboard.php?id=house',\n",
       " 'http://www.ppomppu.co.kr/zboard/zboard.php?id=offline',\n",
       " 'http://www.ppomppu.co.kr/zboard/zboard.php?id=country',\n",
       " 'http://www.ppomppu.co.kr/zboard/zboard.php?id=oversea',\n",
       " 'http://www.ppomppu.co.kr/zboard/zboard.php?id=china',\n",
       " 'http://www.ppomppu.co.kr/zboard/zboard.php?id=wedding',\n",
       " 'http://www.ppomppu.co.kr/zboard/zboard.php?id=problem',\n",
       " 'http://www.ppomppu.co.kr/zboard/zboard.php?id=publictransport',\n",
       " 'http://www.ppomppu.co.kr/zboard/zboard.php?id=nonsmoking',\n",
       " 'http://www.ppomppu.co.kr/zboard/zboard.php?id=e_cig',\n",
       " 'http://www.ppomppu.co.kr/zboard/zboard.php?id=pet',\n",
       " 'http://www.ppomppu.co.kr/zboard/zboard.php?id=mart',\n",
       " 'http://www.ppomppu.co.kr/zboard/zboard.php?id=restaurant',\n",
       " 'http://www.ppomppu.co.kr/zboard/zboard.php?id=medical',\n",
       " 'http://www.ppomppu.co.kr/zboard/zboard.php?id=delivery_food',\n",
       " 'http://www.ppomppu.co.kr/zboard/zboard.php?id=tour',\n",
       " 'http://www.ppomppu.co.kr/zboard/zboard.php?id=couple',\n",
       " 'http://www.ppomppu.co.kr/zboard/zboard.php?id=recipe',\n",
       " 'http://www.ppomppu.co.kr/zboard/zboard.php?id=fortune',\n",
       " 'http://www.ppomppu.co.kr/zboard/zboard.php?id=baby',\n",
       " 'http://www.ppomppu.co.kr/zboard/zboard.php?id=alone',\n",
       " 'http://www.ppomppu.co.kr/zboard/zboard.php?id=religion',\n",
       " 'http://www.ppomppu.co.kr/zboard/zboard.php?id=game',\n",
       " 'http://www.ppomppu.co.kr/zboard/zboard.php?id=gamer',\n",
       " 'http://www.ppomppu.co.kr/zboard/zboard.php?id=boardgame',\n",
       " 'http://www.ppomppu.co.kr/zboard/zboard.php?id=kakao_game',\n",
       " 'http://www.ppomppu.co.kr/zboard/zboard.php?id=gta',\n",
       " 'http://www.ppomppu.co.kr/zboard/zboard.php?id=LOL',\n",
       " 'http://www.ppomppu.co.kr/zboard/zboard.php?id=diablo',\n",
       " 'http://www.ppomppu.co.kr/zboard/zboard.php?id=lineagem',\n",
       " 'http://www.ppomppu.co.kr/zboard/zboard.php?id=pubg',\n",
       " 'http://www.ppomppu.co.kr/zboard/zboard.php?id=overwatch',\n",
       " 'http://www.ppomppu.co.kr/zboard/zboard.php?id=clashroyale',\n",
       " 'http://www.ppomppu.co.kr/zboard/zboard.php?id=pokemongo',\n",
       " 'http://www.ppomppu.co.kr/zboard/zboard.php?id=fifaonline',\n",
       " 'http://www.ppomppu.co.kr/zboard/zboard.php?id=drama',\n",
       " 'http://www.ppomppu.co.kr/zboard/zboard.php?id=book',\n",
       " 'http://www.ppomppu.co.kr/zboard/zboard.php?id=animation',\n",
       " 'http://www.ppomppu.co.kr/zboard/zboard.php?id=munwha',\n",
       " 'http://www.ppomppu.co.kr/zboard/zboard.php?id=announcer',\n",
       " 'http://www.ppomppu.co.kr/zboard/zboard.php?id=star',\n",
       " 'http://www.ppomppu.co.kr/zboard/zboard.php?id=movie',\n",
       " 'http://www.ppomppu.co.kr/zboard/zboard.php?id=music',\n",
       " 'http://www.ppomppu.co.kr/zboard/zboard.php?id=diy',\n",
       " 'http://www.ppomppu.co.kr/zboard/zboard.php?id=rc',\n",
       " 'http://www.ppomppu.co.kr/zboard/zboard.php?id=camera',\n",
       " 'http://www.ppomppu.co.kr/zboard/zboard.php?id=watch',\n",
       " 'http://www.ppomppu.co.kr/zboard/zboard.php?id=interior',\n",
       " 'http://www.ppomppu.co.kr/zboard/zboard.php?id=e_unicycle',\n",
       " 'http://www.ppomppu.co.kr/zboard/zboard.php?id=alcohol',\n",
       " 'http://www.ppomppu.co.kr/zboard/zboard.php?id=hobby',\n",
       " 'http://www.ppomppu.co.kr/zboard/zboard.php?id=coffee',\n",
       " 'http://www.ppomppu.co.kr/zboard/zboard.php?id=f7080',\n",
       " 'http://www.ppomppu.co.kr/zboard/zboard.php?id=morethan40',\n",
       " 'http://www.ppomppu.co.kr/zboard/zboard.php?id=developer',\n",
       " 'http://www.ppomppu.co.kr/zboard/zboard.php?id=army',\n",
       " 'http://www.ppomppu.co.kr/zboard/zboard.php?id=univ_student',\n",
       " 'http://www.ppomppu.co.kr/zboard/zboard.php?id=miz',\n",
       " 'http://www.ppomppu.co.kr/zboard/zboard.php?id=volunteer',\n",
       " 'http://www.ppomppu.co.kr/zboard/zboard.php?id=adult',\n",
       " 'http://www.ppomppu.co.kr/zboard/zboard.php?id=worker',\n",
       " 'http://www.ppomppu.co.kr/zboard/zboard.php?id=honjok',\n",
       " 'http://www.ppomppu.co.kr/zboard/zboard.php?id=fear',\n",
       " 'http://www.ppomppu.co.kr/zboard/zboard.php?id=science',\n",
       " 'http://www.ppomppu.co.kr/zboard/zboard.php?id=mungu',\n",
       " 'http://www.ppomppu.co.kr/zboard/zboard.php?id=stylesheet',\n",
       " 'http://www.ppomppu.co.kr/zboard/zboard.php?id=beauty',\n",
       " 'http://www.ppomppu.co.kr/zboard/zboard.php?id=history',\n",
       " 'http://www.ppomppu.co.kr/zboard/zboard.php?id=style',\n",
       " 'http://www.ppomppu.co.kr/zboard/zboard.php?id=whatever',\n",
       " 'http://www.ppomppu.co.kr/zboard/zboard.php?id=alba',\n",
       " 'http://www.ppomppu.co.kr/zboard/zboard.php?id=employment',\n",
       " 'http://www.ppomppu.co.kr/zboard/zboard.php?id=study',\n",
       " '/recent_forum_article.php',\n",
       " 'http://www.ppomppu.co.kr/recent_main_article.php?type=news',\n",
       " 'http://www.ppomppu.co.kr/zboard/zboard.php?id=news_broadcast',\n",
       " 'http://www.ppomppu.co.kr/zboard/zboard.php?id=news_sports',\n",
       " 'http://www.ppomppu.co.kr/zboard/zboard.php?id=news_life',\n",
       " 'http://www.ppomppu.co.kr/zboard/zboard.php?id=news_pol_eco',\n",
       " 'http://www.ppomppu.co.kr/zboard/zboard.php?id=news2',\n",
       " 'http://www.ppomppu.co.kr/zboard/zboard.php?id=news',\n",
       " 'http://www.ppomppu.co.kr/recent_main_article.php?type=consult',\n",
       " 'http://www.ppomppu.co.kr/zboard/zboard.php?id=consulting',\n",
       " 'http://www.ppomppu.co.kr/zboard/zboard.php?id=loan_consult',\n",
       " 'http://www.ppomppu.co.kr/zboard/zboard.php?id=wedding_consult',\n",
       " 'http://www.ppomppu.co.kr/zboard/zboard.php?id=move_consult',\n",
       " 'http://www.ppomppu.co.kr/zboard/zboard.php?id=tour_consult',\n",
       " 'http://www.ppomppu.co.kr/zboard/zboard.php?id=interior_consult',\n",
       " 'http://www.ppomppu.co.kr/zboard/zboard.php?id=bus_consult',\n",
       " 'http://www.ppomppu.co.kr/zboard/zboard.php?id=security_guard_consult',\n",
       " '/zboard/zboard.php?id=phone_consult',\n",
       " 'http://www.ppomppu.co.kr/zboard/zboard.php?id=tele_consult',\n",
       " 'http://www.ppomppu.co.kr/zboard/zboard.php?id=card_consult',\n",
       " 'http://www.ppomppu.co.kr/zboard/zboard.php?id=rental_consult',\n",
       " 'http://www.ppomppu.co.kr/zboard/zboard.php?id=law_consult',\n",
       " 'http://www.ppomppu.co.kr/zboard/zboard.php?id=tax_consult',\n",
       " 'http://www.ppomppu.co.kr/zboard/zboard.php?id=uhak_consult',\n",
       " 'http://www.ppomppu.co.kr/zboard/zboard.php?id=car_service',\n",
       " 'http://www.ppomppu.co.kr/zboard/zboard.php?id=car_consult',\n",
       " '/zboard/zboard.php?id=pc_consult',\n",
       " 'http://www.ppomppu.co.kr/zboard/zboard.php?id=ad_consult',\n",
       " \"javascript:toggleHelpLayerOn('loginsm');\",\n",
       " '/https_redirect.php',\n",
       " 'https://www.ppomppu.co.kr/auth/auth.php?tab=id',\n",
       " 'https://www.ppomppu.co.kr/auth/auth.php?tab=pwd',\n",
       " \"javascript:toggleHelpLayerOff('loginsm');\",\n",
       " '/zboard/zboard.php?id=freeboard',\n",
       " '/zboard/zboard.php?id=issue',\n",
       " '/zboard/zboard.php?id=humor',\n",
       " '/zboard/zboard.php?id=help',\n",
       " '/zboard/view.php?id=regulation&page=2&divpage=1&no=6',\n",
       " '/zboard/zboard.php?id=issue',\n",
       " '/zboard/zboard.php?id=help',\n",
       " '/hot.php?id=freeboard',\n",
       " '#',\n",
       " 'view.php?id=regulation&page=1&divpage=202&no=6',\n",
       " '#',\n",
       " 'view.php?id=freeboard&page=1&divpage=1112&no=5956831',\n",
       " '#',\n",
       " 'view.php?id=freeboard&page=1&divpage=1112&no=5956830',\n",
       " '#',\n",
       " 'view.php?id=freeboard&page=1&divpage=1112&no=5956829',\n",
       " '#',\n",
       " 'view.php?id=freeboard&page=1&divpage=1112&no=5956828',\n",
       " '#',\n",
       " 'view.php?id=freeboard&page=1&divpage=1112&no=5956827',\n",
       " '#',\n",
       " 'view.php?id=freeboard&page=1&divpage=1112&no=5956826',\n",
       " '#',\n",
       " 'view.php?id=freeboard&page=1&divpage=1112&no=5956825',\n",
       " '#',\n",
       " 'view.php?id=freeboard&page=1&divpage=1112&no=5956824',\n",
       " '#',\n",
       " 'view.php?id=freeboard&page=1&divpage=1112&no=5956823',\n",
       " '#',\n",
       " 'view.php?id=freeboard&page=1&divpage=1112&no=5956822',\n",
       " '#',\n",
       " 'view.php?id=freeboard&page=1&divpage=1112&no=5956821',\n",
       " '#',\n",
       " 'view.php?id=freeboard&page=1&divpage=1112&no=5956820',\n",
       " '#',\n",
       " 'view.php?id=freeboard&page=1&divpage=1112&no=5956819',\n",
       " '#',\n",
       " 'view.php?id=freeboard&page=1&divpage=1112&no=5956818',\n",
       " '#',\n",
       " 'view.php?id=freeboard&page=1&divpage=1112&no=5956817',\n",
       " '#',\n",
       " 'view.php?id=freeboard&page=1&divpage=1112&no=5956816',\n",
       " '#',\n",
       " 'view.php?id=freeboard&page=1&divpage=1112&no=5956815',\n",
       " '#',\n",
       " 'view.php?id=freeboard&page=1&divpage=1112&no=5956814',\n",
       " '#',\n",
       " 'view.php?id=freeboard&page=1&divpage=1112&no=5956813',\n",
       " '#',\n",
       " 'view.php?id=freeboard&page=1&divpage=1112&no=5956812',\n",
       " '#',\n",
       " 'view.php?id=freeboard&page=1&divpage=1112&no=5956811',\n",
       " '#',\n",
       " 'view.php?id=freeboard&page=1&divpage=1112&no=5956810',\n",
       " '#',\n",
       " 'view.php?id=freeboard&page=1&divpage=1112&no=5956809',\n",
       " '#',\n",
       " 'view.php?id=freeboard&page=1&divpage=1112&no=5956808',\n",
       " '#',\n",
       " 'view.php?id=freeboard&page=1&divpage=1112&no=5956807',\n",
       " '#',\n",
       " 'view.php?id=freeboard&page=1&divpage=1112&no=5956806',\n",
       " '#',\n",
       " 'view.php?id=freeboard&page=1&divpage=1112&no=5956805',\n",
       " '#',\n",
       " 'view.php?id=freeboard&page=1&divpage=1112&no=5956804',\n",
       " '#',\n",
       " 'view.php?id=freeboard&page=1&divpage=1112&no=5956803',\n",
       " '#',\n",
       " 'view.php?id=freeboard&page=1&divpage=1112&no=5956802',\n",
       " '/zboard/zboard.php?id=freeboard&page=1&prev_no=&divpage=1112',\n",
       " '/zboard/zboard.php?id=freeboard&page=2&divpage=1112',\n",
       " '/zboard/zboard.php?id=freeboard&page=2&divpage=1112',\n",
       " '/zboard/zboard.php?id=freeboard&page=3&divpage=1112',\n",
       " '/zboard/zboard.php?id=freeboard&page=4&divpage=1112',\n",
       " '/zboard/zboard.php?id=freeboard&page=5&divpage=1112',\n",
       " '/zboard/zboard.php?id=freeboard&page=6&divpage=1112',\n",
       " '/zboard/zboard.php?id=freeboard&page=7&divpage=1112',\n",
       " '/zboard/zboard.php?id=freeboard&page=8&divpage=1112',\n",
       " '/zboard/zboard.php?id=freeboard&page=9&divpage=1112',\n",
       " '/zboard/zboard.php?id=freeboard&page=10&divpage=1112',\n",
       " '/zboard/zboard.php?id=freeboard&page=11&divpage=1112',\n",
       " '/zboard/zboard.php?id=shopping',\n",
       " '/zboard/view.php?id=shopping&no=9819',\n",
       " '/zboard/view.php?id=shopping&no=9818',\n",
       " '/zboard/zboard.php?id=car_service',\n",
       " '/zboard/view.php?id=car_service&no=110098',\n",
       " '/zboard/view.php?id=car_service&no=110097',\n",
       " 'http://www.ppomppu.co.kr/zboard/zboard.php?id=faq',\n",
       " 'http://www.ppomppu.co.kr/zboard/zboard.php?id=propose',\n",
       " 'http://www.ppomppu.co.kr/zboard/zboard.php?id=apply',\n",
       " 'http://www.ppomppu.co.kr/myinfo/member_my_write_list.php',\n",
       " 'http://www.ppomppu.co.kr/service/request.php',\n",
       " 'http://www.ppomppu.co.kr/zboard/view.php?id=regulation&page=2&divpage=1&no=4',\n",
       " 'http://www.ppomppu.co.kr/zboard/view.php?id=regulation&no=34',\n",
       " 'http://www.ppomppu.co.kr/zboard/view.php?id=regulation&page=2&divpage=1&no=5',\n",
       " 'http://www.ppomppu.co.kr/zboard/view.php?id=faq&no=17',\n",
       " 'mailto:webmaster@ppomppu.co.kr']"
      ]
     },
     "execution_count": 120,
     "metadata": {},
     "output_type": "execute_result"
    }
   ],
   "source": [
    "for link in links:\n",
    "    results = getUrls(\"http://www.ppomppu.co.kr/zboard/\"+link)\n",
    "    print(link, len(results))"
   ]
  },
  {
   "cell_type": "code",
   "execution_count": 124,
   "metadata": {},
   "outputs": [],
   "source": [
    "def getContents(url, params=None, select=\"a\"):\n",
    "    res = requests.get(url, params=params, headers=headers)\n",
    "    \n",
    "    if res.status_code == 200:\n",
    "        html = BeautifulSoup(res.text, \"html5lib\")\n",
    "        links = html.select(select)\n",
    "    else:\n",
    "        links = []\n",
    "        print(res.status_code, res.reason)\n",
    "    \n",
    "    return [link.text for link in links]"
   ]
  },
  {
   "cell_type": "code",
   "execution_count": 127,
   "metadata": {
    "scrolled": false
   },
   "outputs": [
    {
     "name": "stdout",
     "output_type": "stream",
     "text": [
      "view.php?id=regulation&page=1&divpage=202&no=6\n",
      "['전체 게시판 이용규칙']\n",
      "[\"\\n\\n   \\n      \\n         \\n            \\n               \\n                  \\n                     \\n                        \\n                           \\n                              \\n                                 \\n                                    모든 게시판에 적용되는 이용규칙입니다. 이용에 반드시 참고하여주시기 바랍니다.\\n                                    \\xa0\\n                                    \\n                                       1.\\xa0\\xa0 게시가 금지된 게시물 및 활동\\n                                    \\n                                    ① 반말, 비아냥, 인신공격성 발언은 금지합니다.\\xa0- 의도적, 악의적, 반복적인 경우 영구 레벨강등 조치가 진행됩니다.\\n                                    ② 광고 글이나, 광고 사진은 금지합니다.③ 불법적인 자료 (저작권 자료 포함)에 대한 언급은 금지합니다.\\xa0- URL이나, 다운 받을 수 있는 방법 등에 대한 정보도 삭제됩니다.\\n                                    ④ 뉴스 게시물을 무단으로 퍼오는것은 저작권위반으로 삭제될 수 있습니다.[관련공지]\\n                                    ⑤ 혐오스럽거나 놀라게 하는 이미지, 동영상 등은 금지합니다.- 배설물, 신체손상, 동물사체, 귀신영상 등으로 낚시한 경우 최소 30일 레벨강등이 진행됩니다.\\n                                    ⑥ 업체와 배틀한 글은 금지합니다.\\xa0- 개인의 이득을 위해 여론을 형성하거나, 업체 협박을 위해 배틀 글을 작성하는 것을 금지합니다.\\n                                    ⑦ 타 회원에게 성희롱 쪽지를 보내거나, 개인정보를 유포하는 것을 금지합니다.\\xa0- 이 경우 영구레벨강등 조치가 진행됩니다.\\n                                    ⑧ 음란물, 청소년유해매체물에 해당하는 게시글, 코멘트는 금지합니다.\\n                                    ⑨ 추천유도는 금지합니다.\\xa0- 추천인의 아이디나 링크 노출은 물론, 추천해 주겠다는글도 금지됩니다.\\xa0- 추천관련 게시물은 [ 추천릴레이 ] 게시판을 이용하여 주시기 바랍니다.\\xa0- 링크, 태그를 이용하는 경우에는 즉시 레벨강등이 진행됩니다.\\xa0- 추천을 빌미로 나눔을 하는 것도 금지됩니다.\\xa0- 단, 본인이 직접 작성한 뽐뿌의 게시글이나 코멘트를 추천해 달라는 것은 허용됩니다.\\n                                    ⑩ 본인 이외의 인증사진은 금지합니다.\\xa0- 자유갤러리와 별도 규칙이 있는 경우를 제외한 모든 게시판에서는 본인과 가족 사진에 한하여 인증이 가능합니다.\\xa0- 인증글을 올리실 때에는 게시글 제목에 ‘인증’이라는 단어가 포함되어야 합니다.\\xa0- 인증게시물에 욕설, 비아냥, 인신공격성 글의 작성은 금지됩니다.\\n                                    ⑪ 제목에는 특수문자 사용을금지합니다.\\xa0\\xa0- 출석부에 한해서는 일부 특수문자가 허용됩니다.\\xa0- 근조의의미로 사용되는 ▶◀ 특수문자는 '실제의 경우에 한하여', '자유게시판 내에서만' 허용 됩니다.\\xa0- 이모티콘 형식으로 사용되는 한자 (예: 乃, 凸, 邕) 는 금지됩니다.\\n                                    \\xa0- 뉴스기사는 원 제목을 그대로 작성하기에 제외됩니다.\\n                                    \\xa0\\n                                    \\n                                       • 특수문자란?\\n                                    \\n                                    일반적인 키보드를 기준으로 하며, 키보드에 각인되어있지 않은 문자를 뜻합니다.- [특수문자로 구분되는 경우]예) \\xa0◈▣※★◎☏♨▒↙↗◀▷☞ 등 키보드에서 각인되어 있지 않은 문자\\n                                    \\xa0- [특수문자로 구분되지 않는 경우]\\xa0예)\\xa0~!@#$%^&*() 등 키보드에 각인되어 있는 문자\\n                                    단, 원래 의도를 벗어나 제목을 돋보이기 위해 3번 이상 반복해 사용할 경우 특수문자로 판단해 제재가 진행될 수 있습니다.\\xa0( 예 : @@@ 안녕하세요!! @@@, ###최저##신제품###, =====특가=====)\\n                                    \\n                                       ⑫ 로그인 정보를 공유해달라는 글은 금지합니다.\\xa0-\\xa0사기 피해가 발생 할 가능성이 있어 글쓴 회원님께서 다른 회원님들께 로그인 정보를 제공해 달라는 글은 제한합니다.\\xa0-\\xa0단, 1:1 거래이며 글쓴이가 로그인 정보를 알려주는 주체가 되는 아이디 대여 등의 경우는 허용됩니다.\\xa0http://www.ppomppu.co.kr/zboard/view.php?id=notice&no=400\\n                                    \\n                                    \\xa0\\n                                    \\n                                       2.\\xa0\\xa0 도배, 무의미한 게시글의작성 및 유지를 금지합니다.\\n                                    \\n                                    ① 포인트를 올리기 위해 작성한 글은 무조건삭제처리 됩니다.\\n                                    ② 모든 게시판의 첫 페이지에서 펑처리를 금지합니다.(2014. 1. 7)\\n                                    ③ 뽐뿌/이벤트/정보영역에는 ‘펑’처리 된 글이 허용되지 않습니다.\\xa0- 운영팀에 의해 삭제되는 경우 포인트 패널티가 부여되오니, 직접 삭제하여 주시기 바랍니다.\\xa0\\xa0- 해당 영역에서 펑 처리된 게시글은 무조건 삭제처리 됩니다.\\n                                    \\n                                       \\xa03.\\xa0\\xa0 회원메모, 쪽지 공개, 다른의견 관련 가이드라인\\n                                    \\n                                    ① 다른 사람에게 받은 쪽지를 임의로 공개하는 것은 금지합니다.\\xa0- 이 경우 일방적으로 욕설 쪽지를 받았다 하여도 즉시 레벨강등이 됩니다.\\xa0\\xa0- 욕설 쪽지에는 대응하지 마시고, 운영참여게시판에 신고하여 주시기바랍니다.\\n                                    ② 회원메모 언급을금지합니다.\\xa0- 공개적으로 회원메모 내용을 언급하는 것은 물론 회원메모가 되어 있거나, 회원메모를 하였다는 식의 표현은 금지합니다.\\xa0\\xa0- 반복 시 레벨강등이 진행 됩니다. 개인메모이기 때문에 개인적으로만 이용해 주시기 바랍니다.\\n                                    ③ 다른의견 및익명 다른의견에대한 비난보복성 발언은 금지합니다.\\xa0- 다른의견은 비추천에 해당하는 기능이며, 익명 다른의견은 본인의 의사를 잘 표현할 수 있도록 부여된 기능입니다. 이 부분에 대해 감정적인 대응보다는 비추천을 받은 사람과 비추천을 한 사람 모두 이타적인 입장을 고려해주시기바랍니다.\\xa0- 또한 다른의견, 익명다른의견의경우 운영팀에서는 사용 내역을 확인할 수 있습니다. 따라서 익명 기능 뒤에서 다른의견을 남발하는 경우, 보복성 다른의견을 사용하는 경우 레벨강등 조치가 진행됩니다.\\n                                    \\xa0\\n                                    \\n                                       4.\\xa0 각게시판의 성격에맞는 글을 작성해주세요.※ \\xa0자유게시판에 회원님들의 이용을 방해하는 목적으로 아래 내용의 게시글을 등록하는 경우 이동 및 삭제처리가 진행될 수 있습니다.\\n                                    \\n                                    ①\\xa0\\xa0 쿠폰/이벤트를 비롯한, 각종 질문은 [ 질문/요청게시판 ]을 이용해주세요. [ 아래 참고사항 : 질문글이란?]\\n                                    ②\\xa0\\xa0 정치 게시물은 [ 이슈정치토론게시판 ]을 이용해주세요.\\n                                    ③\\xa0\\xa0 종교게시물은 [ 종교포럼 ]을 이용해주세요.\\n                                    \\xa0\\n                                    \\n                                       5.\\xa0\\xa0 장터게시물은 장터에만등록해주세요.\\n                                    \\n                                    ① 레벨 제한으로 장터에 글을 쓸 수 없다고 다른 게시판에서 물건을 판매할 수 없습니다.\\xa0- 장터 이용 레벨제한은 안전한 거래를 위한 것입니다. [ 포인트/레벨 FAQ ]\\n                                    ② 장터에 등록한 물품을 다른 게시판에서 광고/홍보할 수 없습니다.\\n                                    ③ 장터 매물 평가는 [ 질문/요청게시판 ]의 ‘중고가격산정’을 이용해주세요.\\n                                    \\xa0\\n                                    ※\\xa0 위 규칙을 위반한경우게시글은 무통보삭제 처리되며, 반복 시 장터출입 제한이 됩니다.\\n                                    \\xa0\\n                                    \\n                                       6. \\xa0 덧코멘트가 있는 경우 원코멘트 삭제가 불가능합니다.\\xa0\\n                                    \\n                                    계층형 코멘트 구조상 원코멘트 삭제가 가능할 시 덧코멘트가 전혀 상관없는 다른 코멘트 아래로 이동이 되기 때문에 문제가 발생할 소지가 있습니다.\\xa0이에 따라 원 코멘트 삭제를 원하실 경우 덧코멘트를 작성하신 회원님께 삭제를 요청 하신 후 덧코멘트가 모두 삭제되면 원 코멘트를 삭제할 수 있습니다.\\n                                    \\n                                       \\n                                    \\n                                    \\n                                       \\n                                    \\n                                    \\n                                       •\\xa0 참고사항\\n                                    \\n                                    \\xa0\\n                                    \\n                                       • 제재의 절차\\n                                    \\n                                    뽐뿌의 이용규칙, 게시판 이용규칙,장터가이드라인 위반 사항에 대해서는 모니터링, 운영참여게시판, 신고기능, 이메일, 전화 등 다양한 경로를 통해 신고가 접수되고 있습니다.\\n                                    신고된 사항에 대해서는 확인 후 이력관리가 진행되며, 의도성, 관련 정황 등을 통해 주의, 경고, 레벨강등이 진행됩니다.\\xa0최종적인 제재는 영구 레벨강등조치가 진행되며, 이경우 재가입이 원천적으로 차단됩니다.\\n                                    ※ 뽐뿌의 경우 주민등록번호를 수집하지않고 있으며, 공인인증기관을 통해 암호값으로 개인을 식별하고있습니다. 따라서이를 바탕으로 재가입을 금지하고 있기 때문에 개인정보보관과는 무관합니다.\\n                                    \\xa0\\n                                    \\n                                       • 질문글이란?\\n                                    \\n                                    물음표가 붙었다고 하여, 무조건 질문글이 되는 것이 아닙니다. 이런 판단에는 주관이 개입될 수 밖에 없어 어려움이 있습니다. 그렇기 때문에 질문글 이동과 관련하여 논란이 이어지는 것입니다. 가장 기본적으로는 게시글을 통해서 '게시글을 등록한 회원'이 어떠한 양질의 정보, 지식을 얻느냐에주안점을 둘 수 있습니다.\\xa0\\xa0- [\\xa0질문글로 구분되는 경우 ]\\xa0 저렴하게구입할 수 있는 방법을 알려주세요!\\xa0\\n                                    \\xa0 \\xa0 물음표가 붙지 않았지만, 질문글입니다.\\n                                    \\xa0- [\\xa0질문글로 구분되지 않는 경우\\xa0] 밤에운동을 하는데, 다른 분들도 밤에 운동을 많이하시나요?\\xa0\\n                                    \\xa0 \\xa0 물음표가 붙었지만, 질문/요청이 아니라 게시물에 대한 반응을 끌어오기 위한 동조의 의미로 활용되는 부분 입니다.\\n                                    \\n                                       \\n                                    \\n                                    \\n                                       \\n                                    \\n                                    \\n                                       \\n                                    \\n                                    \\n                                       \\n                                    \\n                                 \\n                              \\n                           \\n                        \\n                     \\n                  \\n               \\n            \\n         \\n      \\n   \\n\"]\n"
     ]
    },
    {
     "name": "stdout",
     "output_type": "stream",
     "text": [
      "view.php?id=freeboard&page=1&divpage=1112&no=5956870\n",
      "['100만원짜리 태블릿이... 부모님 퍼즐 머신이 되었네요.']\n",
      "['\\n\\n   \\n\\n\\xa0\\n날씨가 워낙 더워서..\\n\\xa0\\n부모님 모시고\\n\\xa0\\n카페에 갔는데\\n\\xa0\\n마땅히 할게 없어하셔서..\\n\\xa0\\n제가 쓰는\\n\\xa0\\n태블릿으로 게임할게 뭐 없나 찾다보니..\\n\\xa0\\n퍼즐맞추기가 딱!!!!\\n\\xa0\\n퍼즐 맞추기만\\n\\xa0\\n카페에서 2시간 넘게하시다가\\n\\xa0\\n오늘 또 태블릿좀 달라고 하시네요 ㅎㅎㅎㅎㅎ\\xa0\\n\\xa0\\n조만간 태블릿 하나 사드려야 할거같아요 ^^;']\n",
      "view.php?id=freeboard&page=1&divpage=1112&no=5956869\n",
      "['오늘 저녁메뉴는~!']\n",
      "['\\n\\n꼬막비빔밥! 입니다.\\n\\n사실 점심때 샀는데, 삼실 냉장고에 넣어놨다가 퇴근길 만원전철을 뚫고 고이 모셔왔습니다.\\n\\n곧 먹을 예정입니다! 맛있는 저녁시간 되세요.']\n",
      "view.php?id=freeboard&page=1&divpage=1112&no=5956868\n",
      "['스마일 클럽 이거 좋네요.']\n",
      "['\\n연회비 3만원에\\n\\n스마일캐쉬 35000원 적립\\n\\n각종 최고등급 쿠폰\\n\\n배달 3천원 쿠폰\\n\\n스마일캐쉬 적립 상향\\n\\n\\n이거 무조건 해야하는거였네요.ㄷㄷ']\n",
      "view.php?id=freeboard&page=1&divpage=1112&no=5956867\n",
      "['집 앞 마트에서 990원짜리 바나나 득템']\n",
      "['\\n\\xa0\\n\\n\\xa0\\n\\xa0\\n저에겐 아침 식사대용으로 최고네요..\\n\\xa0\\n바나나2개+우유 한잔이 아침으로 제일 좋은거 같아요\\n\\xa0\\n갈변한거 떨이로 파는건 아니네요\\n\\xa0\\n990원이고 유기농 바나나라는데 바나나야 맛은 다 고만고만해서 조금 더 익혀먹어야 겠어요']\n",
      "view.php?id=freeboard&page=1&divpage=1112&no=5956866\n",
      "['페이코 아우디 좋네요 ㅎㅎ']\n",
      "['\\n여친 만나러 가기 전에 아우디 매장 갔다가 가려고 하는데... \\n\\n여친이 같이 가자고 계속 그래서 사실은 키링 받으러 가는거야... 했더니\\n\\n혼자 갔다 왔습니다 ㅋㅋㅋ']\n",
      "view.php?id=freeboard&page=1&divpage=1112&no=5956865\n",
      "['구글 날씨정확한가요?']\n",
      "['\\n낼 39도라는데 이게 맞나요?\\n']\n",
      "view.php?id=freeboard&page=1&divpage=1112&no=5956864\n",
      "['지옥고라고 해서 전기세 아깝다고 뉴스 나오는데..']\n",
      "['\\n\\n   \\n\\n지하방. 옥탑방. 고시원?\\n이런 곳에 찜통 더위\\xa0 뉴스 하는데 ... 고시원은 그래도 전기세에는 좀 자유롭지 않나요?\\n\\xa0\\n옥탑방에서 온도가 올라가도 전기세\\xa0 때문에 에어컨을 못 켠다고 하면서..\\n물을 뿌리는데...\\n화면에 잡히는 물 뿌리는 모습 뒤에 옥상에 술병이 즐비 한데...\\xa0\\n술 마실 돈은 있어도\\xa0 \\xa0에어컨 전기세는 아깝다는건지..\\n웬만하면 건강 생각해서 에어컨을 켜는게 술을 먹는 것 보다야 더 좋을 것 같은데요.ㅣ\\xa0\\n\\xa0']\n",
      "view.php?id=freeboard&page=1&divpage=1112&no=5956863\n",
      "['이렇게 더운데 누진세 안없애는건 진짜  ㅡㅡ......']\n",
      "['\\n내가 쓴만큼 전기세 내겟다는데 누진세를 적용하다니 제발 없애주십쇼 퓨ㅠㅠㅠㅠㅠㅠㅠㅠㅠㅠㅠㅠㅠㅠㅠㅠㅠ']\n",
      "view.php?id=freeboard&page=1&divpage=1112&no=5956862\n",
      "['미션임파서블 시리즈 중 최고는']\n",
      "['\\n개인적으로 3편이 꿀잼인거같아요.\\n\\n제가 매겨본 순위는 3 - 1 - 4 - 5 - 2 이네요..']\n",
      "view.php?id=freeboard&page=1&divpage=1112&no=5956861\n",
      "['원피스 주의)  써니 표정 귀엽 ㅋㅋㅋㅋ']\n",
      "['\\n\\xa0\\n\\n   \\n\\n\\xa0\\n\\xa0\\n이걸 어떻게 받아들여야 하는거죠 ㅋㅋㅋㅋㅋ']\n",
      "view.php?id=freeboard&page=1&divpage=1112&no=5956860\n",
      "['이 날씨에 미세먼지라니요...']\n",
      "['\\n여름에 더위 하나로도 버티기 힘든데 미세먼지까지...\\n\\n정말 답이 없네요...;;']\n",
      "view.php?id=freeboard&page=1&divpage=1112&no=5956859\n",
      "['당대표 이해찬 전 총리님이 됐으면 좋겠네요.']\n",
      "['\\n제가 정치에 관심 없을때\\n\\xa0\\n정치 하셨던 분이라 많이는 모르겠지만\\n\\xa0\\n요 몇년간 TV나 팟캐류?쪽하고\\xa0\\n\\xa0\\n유튜브에 올라오는 영상들 보니 시원시원하게 말씀 잘 하시더라구요.\\n\\xa0\\n\\xa0\\n다른분들도 물론 좋지만 이해찬 전 총리님이 됐으면 좋겠어요.']\n",
      "view.php?id=freeboard&page=1&divpage=1112&no=5956858\n",
      "['靑 관계자들 \"의원들 다 체포해서라도 계엄 유지 목적\"']\n",
      "['\\nhttp://v.media.daum.net/v/20180720203603858\\n\\n국회의원들 다 잡아넣어서라도 계엄 해제를 원천 봉쇄하려 했다는 거다, \\n\\n특히 여소야대라는 당시의 구체적인 상황을 검토한 점은 법리 검토가 아니라 구체적인 실행을 염두에 뒀다는 결정적인 증거 아니냐는 판단입니다\\n\\n\\n\\n\\n\\n\\n\\n']\n",
      "view.php?id=freeboard&page=1&divpage=1112&no=5956857\n",
      "['귀에서 타액이 검출되고 경찰 출동시 흉기를 들고있었다는데']\n",
      "['\\n\\n이것도 심신미약으로 집행유예 되려나요?\\n\\xa0\\n술먹으면 적당히 판결되는 대한민국인데 ㅡ.,ㅡ\\n\\xa0\\n\\xa0\\n\\xa0']\n",
      "view.php?id=freeboard&page=1&divpage=1112&no=5956856\n",
      "['tvn 한쌍이라고 희한한 프로그램 하네요']\n",
      "['\\nsbs 미우새 + sbs 짝 짬뽕한거 같네용\\n\\n일반인 부모들이 나와서 자기 아들 딸 맞선하는거 \\n\\n구경하는 프로인거 같네요\\n']\n",
      "view.php?id=freeboard&page=1&divpage=1112&no=5956855\n",
      "['불금엔 치킨이죠']\n",
      "['\\n멕시카나\\n반반 17000원 입니당']\n",
      "view.php?id=freeboard&page=1&divpage=1112&no=5956854\n",
      "['액션캠에 있는 와이파이로 데이터 전송이런건,,,,,,']\n",
      "['\\n실 사용에서 무리네요;;;;;\\n\\xa0\\n그냥 있다! 여기에 의미를 둬야 할듯,,,,\\n\\xa0\\n\\xa0\\n오늘 제 소니 액션캠으로 타임랩스를 찍고,,,,,\\xa0\\n데이터를 스마트폰(아이폰 입니다...)으로 가져오는데,,,,\\n\\xa0\\n\\xa0\\n한 1시간 정도 기다렸나?\\n\\xa0\\n포기합니다...GG.....\\n\\xa0\\n이건 뭐 너무 느려 터져서,,,, 포기,,,,,,\\n\\xa0\\n\\xa0\\n\\xa0\\n휴,,,,\\xa0\\n\\xa0\\n집에서 SD카드 따고 그냥 전통적인 방식으로 가져와야겠습니다......\\n\\xa0\\n\\xa0\\n이런거 기대한 제가 바보인가요??ㅠㅠ']\n",
      "view.php?id=freeboard&page=1&divpage=1112&no=5956853\n",
      "['정진석 \"계엄해제권은 추대표에 있잖아\"']\n",
      "['\\nhttps://m.news.naver.com/read.nhn?mode=LSD&mid=sec&sid1=102&oid=011&aid=0002920646\\n\\n\\n\\n2016년 당시 정진석 \\n\\n정진석 원내대표는 이날 페이스북을 통해 “추미애 대표님, 공연한 걱정 마시고 우리 헌법을 믿어라”라며 지적했다.\\n\\n정진석 원내대표는 추미애 계엄령 발언에 대해 “대통령이 계엄을 선포할 권한이 있다면 국회는 계엄을 해제할 수 있는 권한이 있다. 헌법은 국회의원 과반수가 계엄 해제를 요구하면 대통령은 이를 해제해야 한다고 77조에 못 박고 있다”고 설명했다.\\n\\n또한, “여소야대 국면에서 계엄 해제권은 추미애 대표가 쥐고 있다. 계엄 선포권은 박 대통령에게 있지만, 계엄 해제권은 추 대표에게 있는 것”이라고 밝혔다.\\n\\n\\n\\n\\n\\n\"계엄권은 박근혜에게 있지만 해제권은 추대표에게 있다\"\\n라는거 보면 이놈도 그때 이미 알고 있었던듯.. \\n\\n헌법만 믿으라? ']\n",
      "view.php?id=freeboard&page=1&divpage=1112&no=5956852\n",
      "['벽걸이 에어컨 가리게 왓어유']\n",
      "['\\n아 이걸 어찌 설치한다..']\n",
      "view.php?id=freeboard&page=1&divpage=1112&no=5956851\n",
      "['영화 인랑 김지운 감독은 좋은데 배우가 영...']\n",
      "['\\n김지운 감독은 괜찮은데 배우는 김무열님 제외하면...\\n\\n강동원 정우성 한효주 다 제가 거르는 분들이 극을 끌고가네요....\\n\\n아수라 볼때도 황정민 곽도원 정만식믿고 영화본것이고ㅎㅎ\\n(결과는 통수지만... ㅜ)\\n\\n놈놈놈도 송강호 이병헌믿고 본건데ㅎㅎ\\n\\n참 망설여지네요ㅋㅋㅋㅋ']\n",
      "view.php?id=freeboard&page=1&divpage=1112&no=5956850\n",
      "['뽐게 동물인형 받았습니다']\n",
      "['\\n사슴 촉감이 너무 좋네요\\n\\n진짜 털같아요 ㅠㅠ\\n\\n책상위가 동물의 왕국됨']\n",
      "view.php?id=freeboard&page=1&divpage=1112&no=5956849\n",
      "['폭주할겁니다']\n",
      "['\\n맥주 350짜리 먹었네요\\n꿀꿀']\n",
      "view.php?id=freeboard&page=1&divpage=1112&no=5956848\n",
      "['오션월드 오션패스가 인당 15만원이네요']\n",
      "['\\n\\xa0\\n\\n   \\n\\n\\xa0\\n\\n   \\n\\n\\xa0\\n\\n   \\n\\n\\xa0\\n\\n   \\n\\n\\xa0\\n\\xa0\\n\\xa0\\n\\xa0\\n그것도 종일 아니고 오전or오후.\\n\\n   \\n\\n\\xa0\\n가족 데리고 가서 선베드나 구명조끼, 타월 같은거 대여 좀 하고\\n\\xa0\\n안에서 먹을것 좀 사먹고 하면\\n\\xa0\\n일본 놀러갔다올 돈은 족히 쓰겠네요\\n\\xa0\\n\\xa0\\n\\xa0\\n\\xa0\\n\\xa0']\n",
      "view.php?id=freeboard&page=1&divpage=1112&no=5956847\n",
      "['요즘 코인노래방 동네에 많이생기네요 ㄷㄷ']\n",
      "['\\n노량진에 예전에 있었는데 혼자가기도 편하던데\\n\\xa0']\n",
      "view.php?id=freeboard&page=1&divpage=1112&no=5956846\n",
      "['군형법 제1장 반란의 죄']\n",
      "['\\n\\n   제1장 반란의 죄 \\xa0<개정 2009.11.2.>\\n\\n\\n   \\n      \\n         \\n      \\n      \\n         \\n      \\n   \\n   \\n      \\n         \\xa0제5조(반란)\\xa0작당(作黨)하여 병기를 휴대하고 반란을 일으킨 사람은 다음 각 호의 구분에 따라 처벌한다.\\n      \\n      1. 수괴(首魁): 사형\\n      2. 반란 모의에 참여하거나 반란을 지휘하거나 그 밖에 반란에서 중요한 임무에 종사한 사람과 반란 시 살상, 파괴 또는 약탈 행위를 한 사람: 사형, 무기 또는 7년 이상의 징역이나 금고\\n      3. 반란에 부화뇌동(附和雷同)하거나 단순히 폭동에만 관여한 사람: 7년 이하의 징역이나 금고\\n      \\n         [전문개정 2009.11.2.]\\n      \\n   \\n\\n\\n   \\n      \\n         \\n      \\n      \\n         \\n      \\n   \\n   \\n      \\n         \\xa0제6조(반란 목적의 군용물 탈취)\\xa0반란을 목적으로 작당하여 병기, 탄약 또는 그 밖에 군용에 공(供)하는 물건을 탈취한 사람은\\xa0제5조의 예에 따라 처벌한다.\\n      \\n      \\n         [전문개정 2009.11.2.]\\n      \\n   \\n\\n\\n   \\n      \\n         \\n      \\n      \\n         \\n      \\n   \\n   \\n      \\n         \\xa0제7조(미수범)\\xa0제5조와\\xa0제6조의 미수범은 처벌한다.\\n      \\n      \\n         [전문개정 2009.11.2.]\\n      \\n   \\n\\n\\n   \\n      \\n         \\n      \\n      \\n         \\n      \\n   \\n   \\n      \\n         \\xa0제8조(예비, 음모, 선동, 선전)\\xa0①\\xa0제5조\\xa0또는\\xa0제6조의 죄를 범할 목적으로 예비 또는 음모를 한 사람은 5년 이상의 유기징역이나 유기금고에 처한다. 다만, 그 목적한 죄의 실행에 이르기 전에 자수한 경우에는 그 형을 감경하거나 면제한다.\\n      \\n      ②\\xa0제5조\\xa0또는\\xa0제6조의 죄를 범할 것을 선동하거나 선전한 사람도 제1항의 형에 처한다.\\n      \\n         [전문개정 2009.11.2.]\\n      \\n   \\n\\n\\n   \\n      \\n         \\n      \\n      \\n         \\n      \\n   \\n   \\n      \\n         \\xa0제9조(반란 불보고)\\xa0① 반란을 알고도 이를 상관 또는 그 밖의 관계관에게 지체 없이 보고하지 아니한 사람은 2년 이하의 징역이나 금고에 처한다.\\n      \\n      ② 제1항의 경우에 적을 이롭게 할 목적으로 보고하지 아니한 사람은 7년 이하의 징역이나 금고에 처한다.\\n      \\n         [전문개정 2009.11.2.]\\n      \\n   \\n\\n\\n   \\n\\n\\n   \\n      \\n         \\n      \\n      \\n         \\n      \\n   \\n   \\n      \\n         \\xa0제10조(동맹국에 대한 행위)\\xa0이 장의 규정은 대한민국의 동맹국에 대한 행위에도 적용한다.\\n      \\n      \\n         [전문개정 2009.11.2.]\\n      \\n   \\n\\n\\xa0\\n\\xa0\\n\\xa0\\n\\xa0\\nhttp://www.law.go.kr/lsInfoP.do?lsiSeq=183550&efYd=20161130#0000\\n\\xa0\\n\\xa0\\n\\xa0\\n\\xa0\\n사형 갑시다']\n",
      "view.php?id=freeboard&page=1&divpage=1112&no=5956845\n",
      "['찬물로 샤워들 하시나요?']\n",
      "['\\n아무리 더워도 씻을땐 미지근한 물로 ��는데\\n이젠 도저히 안되겠네요\\n전 오늘부터 찬물로 머리감고 샤워 하려구요\\n']\n",
      "view.php?id=freeboard&page=1&divpage=1112&no=5956844\n",
      "['한화 삼성 경기는 진짜 볼 맛 안 나겠네요']\n",
      "['\\n7회말 1:0......\\n\\n아 물론 최강한화가 1점 ㅎㅎ']\n",
      "view.php?id=freeboard&page=1&divpage=1112&no=5956843\n",
      "['“화염병 던져 계엄령 명분 만들었어야”…한국당 구의원 ‘망언’ 재조명']\n",
      "['\\n\\n   “계엄령을 선포할 수 있는 명분을 만들었어야 하는데 그 당시 사람이 죽고 다치고 했으니 어차피 기름 화염병을 준비해서 경찰을 향해 던져서 화재가 나고 경찰이 다치고 사망자가 속출하는 상황을 만들었어야 한다”“국가의 위기에서 비상계엄령을 선포하게 하는 명분을 만들 수 있었는데 이미 시기를 놓쳐 버렸다”\\n\\n\\xa0\\nhttp://www.seoul.co.kr/news/newsView.php?id=20180720500177&wlog_sub=svt_006\\n\\xa0\\n\\xa0\\n이 인간 그와중에 또 재선됨 하....']\n",
      "view.php?id=freeboard&page=1&divpage=1112&no=5956842\n",
      "['트레기 뽐게 여러번 놓쳤는데. 다시 안나오네요']\n",
      "['\\n뽐뻐로서 트레기가 없다뉘\\n막상 사려하니 가격이 엄청 올라서 못사고 있네여.\\n넷북이나 살까요?']\n",
      "view.php?id=freeboard&page=1&divpage=1112&no=5956841\n",
      "['\\'계엄군 투입, 언론·국회 통제\\' 적시…\"내란음모 혐의 짙어져\"']\n",
      "['\\n\\'계엄군 투입, 언론·국회 통제\\' 적시…\"내란음모 혐의 짙어져\"\\n출처 : 연합뉴스 | 네이버 뉴스\\n http://naver.me/xxTWgqSF\\n\\n저 댓글들을 보니 본질을 흐리려는 알바들이 가득가득. 그럼에도 불구하고 적폐청산은 어떤형태등 반드시 이루어져야 한다고 생각합니다. \\n\\n그래야 그동안 뒤떨어진 대한민국을 다시 힘차게 가동시킬수 있는 원동력을 가질수 있다고 생각합니다.']\n"
     ]
    }
   ],
   "source": [
    "links = getUrls(url, select=\"td.list_vspace > a\")\n",
    "\n",
    "for link in links:\n",
    "    title = getContents(\"http://www.ppomppu.co.kr/zboard/\" + link, select=\".view_title2\")\n",
    "    content = getContents(\"http://www.ppomppu.co.kr/zboard/\" + link, select=\".board-contents\")\n",
    "    print(link)\n",
    "    print(title)\n",
    "    print(content)"
   ]
  },
  {
   "cell_type": "code",
   "execution_count": 128,
   "metadata": {},
   "outputs": [],
   "source": [
    "results = getContents(\"http://example.webscraping.com/places/default/search\", select=\"#result\")"
   ]
  },
  {
   "cell_type": "code",
   "execution_count": 129,
   "metadata": {},
   "outputs": [
    {
     "data": {
      "text/plain": [
       "[]"
      ]
     },
     "execution_count": 129,
     "metadata": {},
     "output_type": "execute_result"
    }
   ],
   "source": [
    "results"
   ]
  },
  {
   "cell_type": "code",
   "execution_count": 130,
   "metadata": {},
   "outputs": [],
   "source": [
    "from selenium import webdriver"
   ]
  },
  {
   "cell_type": "code",
   "execution_count": 131,
   "metadata": {},
   "outputs": [],
   "source": [
    "driver = webdriver.Chrome()"
   ]
  },
  {
   "cell_type": "code",
   "execution_count": 133,
   "metadata": {},
   "outputs": [],
   "source": [
    "driver.get(\"http://example.webscraping.com/places/default/search\")"
   ]
  },
  {
   "cell_type": "code",
   "execution_count": 134,
   "metadata": {},
   "outputs": [],
   "source": [
    "url = \"http://example.webscraping.com/places/default/search\""
   ]
  },
  {
   "cell_type": "code",
   "execution_count": 137,
   "metadata": {},
   "outputs": [],
   "source": [
    "driver.find_element_by_id(\"search_term\").send_keys(\"korea\")"
   ]
  },
  {
   "cell_type": "code",
   "execution_count": 138,
   "metadata": {},
   "outputs": [],
   "source": [
    "driver.find_element_by_id(\"search\").click()"
   ]
  },
  {
   "cell_type": "code",
   "execution_count": 139,
   "metadata": {},
   "outputs": [],
   "source": [
    "html = BeautifulSoup(driver.page_source, \"html5lib\")"
   ]
  },
  {
   "cell_type": "code",
   "execution_count": 140,
   "metadata": {},
   "outputs": [],
   "source": [
    "links = html.select(\"#results a\")"
   ]
  },
  {
   "cell_type": "code",
   "execution_count": 141,
   "metadata": {},
   "outputs": [
    {
     "name": "stdout",
     "output_type": "stream",
     "text": [
      " North Korea\n",
      " South Korea\n"
     ]
    }
   ],
   "source": [
    "for link in links:\n",
    "    print(link.text)"
   ]
  },
  {
   "cell_type": "code",
   "execution_count": null,
   "metadata": {},
   "outputs": [],
   "source": []
  }
 ],
 "metadata": {
  "kernelspec": {
   "display_name": "Python 3",
   "language": "python",
   "name": "python3"
  },
  "language_info": {
   "codemirror_mode": {
    "name": "ipython",
    "version": 3
   },
   "file_extension": ".py",
   "mimetype": "text/x-python",
   "name": "python",
   "nbconvert_exporter": "python",
   "pygments_lexer": "ipython3",
   "version": "3.7.0"
  }
 },
 "nbformat": 4,
 "nbformat_minor": 2
}
