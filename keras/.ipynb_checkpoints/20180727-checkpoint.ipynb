{
 "cells": [
  {
   "cell_type": "code",
   "execution_count": 1,
   "metadata": {},
   "outputs": [],
   "source": [
    "import matplotlib.pyplot as plt\n",
    "import numpy as np"
   ]
  },
  {
   "cell_type": "code",
   "execution_count": 2,
   "metadata": {},
   "outputs": [],
   "source": [
    "def plot_compare(origin, noise):\n",
    "    plt.figure(figsize=(10,10))\n",
    "    size = int(len(origin)/10)\n",
    "\n",
    "    for i in range(10):\n",
    "        origin_img = origin[i*size:(i+1)*size]\n",
    "        noise_img = noise[i*size:(i+1)*size]\n",
    "\n",
    "        for j in range(5):   \n",
    "            plt.subplot(10, 10, i + 2*j*10 + 1) # 행, 열, plot번호\n",
    "            plt.imshow(origin_img[j].reshape(28, 28), cmap='gray')\n",
    "            plt.axis('off')\n",
    "            plt.subplot(10, 10, i + (2*j+1)*10 + 1) # 행, 열, plot번호\n",
    "            plt.imshow(noise_img[j].reshape(28, 28), cmap='gray')\n",
    "            plt.axis('off')\n",
    "\n",
    "    plt.show()"
   ]
  },
  {
   "cell_type": "code",
   "execution_count": 3,
   "metadata": {},
   "outputs": [],
   "source": [
    "def combine_generator(gen1, gen2):\n",
    "    for (batch1, batch2) in zip(gen1, gen2):\n",
    "        yield (batch1, batch2)"
   ]
  },
  {
   "cell_type": "code",
   "execution_count": 4,
   "metadata": {},
   "outputs": [],
   "source": [
    "def img_to_array_generator(gen, steps):\n",
    "    comb_list = []\n",
    "    \n",
    "    for i in range(steps):\n",
    "        comb_list.extend(next(gen))\n",
    "    \n",
    "    return np.asarray(comb_list)"
   ]
  },
  {
   "cell_type": "code",
   "execution_count": null,
   "metadata": {},
   "outputs": [],
   "source": []
  }
 ],
 "metadata": {
  "kernelspec": {
   "display_name": "Python 3",
   "language": "python",
   "name": "python3"
  },
  "language_info": {
   "codemirror_mode": {
    "name": "ipython",
    "version": 3
   },
   "file_extension": ".py",
   "mimetype": "text/x-python",
   "name": "python",
   "nbconvert_exporter": "python",
   "pygments_lexer": "ipython3",
   "version": "3.6.5"
  }
 },
 "nbformat": 4,
 "nbformat_minor": 2
}
